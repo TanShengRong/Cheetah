{
 "cells": [
  {
   "cell_type": "markdown",
   "metadata": {},
   "source": [
    "Read the training data as a pandas dataframe."
   ]
  },
  {
   "cell_type": "code",
   "execution_count": 1,
   "metadata": {
    "scrolled": true
   },
   "outputs": [],
   "source": [
    "import pandas as pd\n",
    "\n",
    "train_file = 'task1_trainset.csv'\n",
    "df = pd.read_csv(train_file) "
   ]
  },
  {
   "cell_type": "markdown",
   "metadata": {},
   "source": [
    "* create another feature that tag every sentence with the label"
   ]
  },
  {
   "cell_type": "code",
   "execution_count": 2,
   "metadata": {},
   "outputs": [
    {
     "data": {
      "text/html": [
       "<div>\n",
       "<style scoped>\n",
       "    .dataframe tbody tr th:only-of-type {\n",
       "        vertical-align: middle;\n",
       "    }\n",
       "\n",
       "    .dataframe tbody tr th {\n",
       "        vertical-align: top;\n",
       "    }\n",
       "\n",
       "    .dataframe thead th {\n",
       "        text-align: right;\n",
       "    }\n",
       "</style>\n",
       "<table border=\"1\" class=\"dataframe\">\n",
       "  <thead>\n",
       "    <tr style=\"text-align: right;\">\n",
       "      <th></th>\n",
       "      <th>Id</th>\n",
       "      <th>Title</th>\n",
       "      <th>Abstract</th>\n",
       "      <th>Authors</th>\n",
       "      <th>Categories</th>\n",
       "      <th>Created Date</th>\n",
       "      <th>Task 1</th>\n",
       "      <th>tag_sent</th>\n",
       "    </tr>\n",
       "  </thead>\n",
       "  <tbody>\n",
       "    <tr>\n",
       "      <th>0</th>\n",
       "      <td>D00001</td>\n",
       "      <td>A Brain-Inspired Trust Management Model to Ass...</td>\n",
       "      <td>Rapid popularity of Internet of Things (IoT) a...</td>\n",
       "      <td>Mahmud/Kaiser/Rahman/Rahman/Shabut/Al-Mamun/Hu...</td>\n",
       "      <td>cs.CR/cs.AI/q-bio.NC</td>\n",
       "      <td>2018-01-11</td>\n",
       "      <td>BACKGROUND OBJECTIVES METHODS METHODS RESULTS ...</td>\n",
       "      <td>[(Rapid popularity of Internet of Things (IoT)...</td>\n",
       "    </tr>\n",
       "    <tr>\n",
       "      <th>1000</th>\n",
       "      <td>D01001</td>\n",
       "      <td>Proprties of biclustering algorithms and a nov...</td>\n",
       "      <td>Biclustering is found to be useful in areas li...</td>\n",
       "      <td>Jain/Ghosh/Ghosh/Murthy</td>\n",
       "      <td>cs.CV/cs.LG</td>\n",
       "      <td>2018-11-12</td>\n",
       "      <td>BACKGROUND OBJECTIVES OBJECTIVES OBJECTIVES ME...</td>\n",
       "      <td>[(Biclustering is found to be useful in areas ...</td>\n",
       "    </tr>\n",
       "    <tr>\n",
       "      <th>2000</th>\n",
       "      <td>D02001</td>\n",
       "      <td>Scalable Object Detection using Deep Neural Ne...</td>\n",
       "      <td>Deep convolutional neural networks have recent...</td>\n",
       "      <td>Erhan/Szegedy/Toshev/Anguelov</td>\n",
       "      <td>cs.CV/stat.ML</td>\n",
       "      <td>2013-12-08</td>\n",
       "      <td>BACKGROUND BACKGROUND BACKGROUND OBJECTIVES/ME...</td>\n",
       "      <td>[(Deep convolutional neural networks have rece...</td>\n",
       "    </tr>\n",
       "    <tr>\n",
       "      <th>3000</th>\n",
       "      <td>D03001</td>\n",
       "      <td>Multipath Stealth Communication with Jammers</td>\n",
       "      <td>We consider the problem of stealth communicati...</td>\n",
       "      <td>Song/Qiaosheng/Zhang/Kadhe/Bakshi/Jaggi</td>\n",
       "      <td>cs.IT/math.IT</td>\n",
       "      <td>2018-05-08</td>\n",
       "      <td>OBJECTIVES OBJECTIVES METHODS METHODS RESULTS</td>\n",
       "      <td>[(We consider the problem of stealth communica...</td>\n",
       "    </tr>\n",
       "    <tr>\n",
       "      <th>4000</th>\n",
       "      <td>D04001</td>\n",
       "      <td>I Spy with My Little Eye: Analysis and Detecti...</td>\n",
       "      <td>Several studies have been conducted on underst...</td>\n",
       "      <td>Aggarwal/Viswanath/Kumar/Shah/Zhang/Kumaraguru</td>\n",
       "      <td>cs.CR</td>\n",
       "      <td>2016-12-02</td>\n",
       "      <td>BACKGROUND BACKGROUND METHODS OBJECTIVES METHO...</td>\n",
       "      <td>[(Several studies have been conducted on under...</td>\n",
       "    </tr>\n",
       "    <tr>\n",
       "      <th>5000</th>\n",
       "      <td>D05001</td>\n",
       "      <td>A Machine Learning Approach to Persian Text Re...</td>\n",
       "      <td>An automated approach to text readability asse...</td>\n",
       "      <td>Mohammadi/Khasteh</td>\n",
       "      <td>cs.CL</td>\n",
       "      <td>2018-10-07</td>\n",
       "      <td>OBJECTIVES OBJECTIVES OBJECTIVES RESULTS RESUL...</td>\n",
       "      <td>[(An automated approach to text readability as...</td>\n",
       "    </tr>\n",
       "    <tr>\n",
       "      <th>6000</th>\n",
       "      <td>D06001</td>\n",
       "      <td>Cardinal-Recognizing Infinite Time Turing Mach...</td>\n",
       "      <td>We introduce a model of infinitary computation...</td>\n",
       "      <td>Habič</td>\n",
       "      <td>math.LO/cs.FL/cs.LO</td>\n",
       "      <td>2013-10-21</td>\n",
       "      <td>OBJECTIVES/METHODS RESULTS/CONCLUSIONS</td>\n",
       "      <td>[(We introduce a model of infinitary computati...</td>\n",
       "    </tr>\n",
       "  </tbody>\n",
       "</table>\n",
       "</div>"
      ],
      "text/plain": [
       "          Id                                              Title  \\\n",
       "0     D00001  A Brain-Inspired Trust Management Model to Ass...   \n",
       "1000  D01001  Proprties of biclustering algorithms and a nov...   \n",
       "2000  D02001  Scalable Object Detection using Deep Neural Ne...   \n",
       "3000  D03001       Multipath Stealth Communication with Jammers   \n",
       "4000  D04001  I Spy with My Little Eye: Analysis and Detecti...   \n",
       "5000  D05001  A Machine Learning Approach to Persian Text Re...   \n",
       "6000  D06001  Cardinal-Recognizing Infinite Time Turing Mach...   \n",
       "\n",
       "                                               Abstract  \\\n",
       "0     Rapid popularity of Internet of Things (IoT) a...   \n",
       "1000  Biclustering is found to be useful in areas li...   \n",
       "2000  Deep convolutional neural networks have recent...   \n",
       "3000  We consider the problem of stealth communicati...   \n",
       "4000  Several studies have been conducted on underst...   \n",
       "5000  An automated approach to text readability asse...   \n",
       "6000  We introduce a model of infinitary computation...   \n",
       "\n",
       "                                                Authors            Categories  \\\n",
       "0     Mahmud/Kaiser/Rahman/Rahman/Shabut/Al-Mamun/Hu...  cs.CR/cs.AI/q-bio.NC   \n",
       "1000                            Jain/Ghosh/Ghosh/Murthy           cs.CV/cs.LG   \n",
       "2000                      Erhan/Szegedy/Toshev/Anguelov         cs.CV/stat.ML   \n",
       "3000            Song/Qiaosheng/Zhang/Kadhe/Bakshi/Jaggi         cs.IT/math.IT   \n",
       "4000     Aggarwal/Viswanath/Kumar/Shah/Zhang/Kumaraguru                 cs.CR   \n",
       "5000                                  Mohammadi/Khasteh                 cs.CL   \n",
       "6000                                              Habič   math.LO/cs.FL/cs.LO   \n",
       "\n",
       "     Created Date                                             Task 1  \\\n",
       "0      2018-01-11  BACKGROUND OBJECTIVES METHODS METHODS RESULTS ...   \n",
       "1000   2018-11-12  BACKGROUND OBJECTIVES OBJECTIVES OBJECTIVES ME...   \n",
       "2000   2013-12-08  BACKGROUND BACKGROUND BACKGROUND OBJECTIVES/ME...   \n",
       "3000   2018-05-08      OBJECTIVES OBJECTIVES METHODS METHODS RESULTS   \n",
       "4000   2016-12-02  BACKGROUND BACKGROUND METHODS OBJECTIVES METHO...   \n",
       "5000   2018-10-07  OBJECTIVES OBJECTIVES OBJECTIVES RESULTS RESUL...   \n",
       "6000   2013-10-21             OBJECTIVES/METHODS RESULTS/CONCLUSIONS   \n",
       "\n",
       "                                               tag_sent  \n",
       "0     [(Rapid popularity of Internet of Things (IoT)...  \n",
       "1000  [(Biclustering is found to be useful in areas ...  \n",
       "2000  [(Deep convolutional neural networks have rece...  \n",
       "3000  [(We consider the problem of stealth communica...  \n",
       "4000  [(Several studies have been conducted on under...  \n",
       "5000  [(An automated approach to text readability as...  \n",
       "6000  [(We introduce a model of infinitary computati...  "
      ]
     },
     "execution_count": 2,
     "metadata": {},
     "output_type": "execute_result"
    }
   ],
   "source": [
    "df['tag_sent'] = df[['Abstract','Task 1']].apply(lambda x: list(zip(x['Abstract'].split('$$$'), x['Task 1'].split(' '))), axis=1)\n",
    "df[::1000]"
   ]
  },
  {
   "cell_type": "markdown",
   "metadata": {},
   "source": [
    "* dictionary"
   ]
  },
  {
   "cell_type": "code",
   "execution_count": 7,
   "metadata": {},
   "outputs": [
    {
     "name": "stdout",
     "output_type": "stream",
     "text": [
      "7000\n",
      "7000\n"
     ]
    }
   ],
   "source": [
    "print(len(df['tag_sent'].values))\n",
    "print(len(df['Categories'].values))"
   ]
  },
  {
   "cell_type": "code",
   "execution_count": 8,
   "metadata": {},
   "outputs": [
    {
     "data": {
      "text/plain": [
       "(('Rapid popularity of Internet of Things (IoT) and cloud computing permits neuroscientists to collect multilevel and multichannel brain data to better understand brain functions, diagnose diseases, and devise treatments.',\n",
       "  'BACKGROUND'),\n",
       " 0,\n",
       " 'cs.CR/cs.AI/q-bio.NC')"
      ]
     },
     "execution_count": 8,
     "metadata": {},
     "output_type": "execute_result"
    }
   ],
   "source": [
    "# (sentence, position_in_abstract, categories)\n",
    "sent_tag = [(s, idx, df['Categories'].values[index]) \n",
    "            for index, sent in enumerate(df['tag_sent'].values) \n",
    "            for idx, s in enumerate(sent)]\n",
    "sent_tag[0]"
   ]
  },
  {
   "cell_type": "code",
   "execution_count": 9,
   "metadata": {},
   "outputs": [],
   "source": [
    "sent_tag_dic = dict()\n",
    "\n",
    "# label: (position, sentence, categories)\n",
    "for ((sent,labels), idx, cate) in sent_tag:\n",
    "    label_list = labels.split('/')\n",
    "    for label in label_list:\n",
    "        if label not in sent_tag_dic:\n",
    "            sent_tag_dic.update({label:[(idx, sent, cate)]})\n",
    "        else:\n",
    "            sent_tag_dic[label].append((idx, sent, cate))\n",
    "\n"
   ]
  },
  {
   "cell_type": "code",
   "execution_count": 11,
   "metadata": {},
   "outputs": [
    {
     "data": {
      "text/plain": [
       "dict_keys(['BACKGROUND', 'OBJECTIVES', 'METHODS', 'RESULTS', 'CONCLUSIONS', 'OTHERS'])"
      ]
     },
     "execution_count": 11,
     "metadata": {},
     "output_type": "execute_result"
    }
   ],
   "source": [
    "sent_tag_dic.keys()"
   ]
  },
  {
   "cell_type": "code",
   "execution_count": 12,
   "metadata": {},
   "outputs": [
    {
     "name": "stdout",
     "output_type": "stream",
     "text": [
      "BACKGROUND 13353\n",
      "CONCLUSIONS 5313\n",
      "METHODS 13655\n",
      "OBJECTIVES 9329\n",
      "OTHERS 901\n",
      "RESULTS 11772\n"
     ]
    }
   ],
   "source": [
    "print('BACKGROUND', len(sent_tag_dic['BACKGROUND']))\n",
    "print('CONCLUSIONS', len(sent_tag_dic['CONCLUSIONS']))\n",
    "print('METHODS', len(sent_tag_dic['METHODS']))\n",
    "print('OBJECTIVES', len(sent_tag_dic['OBJECTIVES']))\n",
    "print('OTHERS', len(sent_tag_dic['OTHERS']))\n",
    "print('RESULTS', len(sent_tag_dic['RESULTS']))"
   ]
  },
  {
   "cell_type": "code",
   "execution_count": 13,
   "metadata": {},
   "outputs": [
    {
     "data": {
      "image/png": "[encoded data removed]",
      "text/plain": [
       "<Figure size 648x504 with 1 Axes>"
      ]
     },
     "metadata": {
      "needs_background": "light"
     },
     "output_type": "display_data"
    }
   ],
   "source": [
    "import matplotlib.pyplot as plt\n",
    "%matplotlib inline\n",
    "\n",
    "plt.subplots(figsize=(9, 7))\n",
    "x = sent_tag_dic.keys()\n",
    "y = [len(sent_tag_dic[k]) for k in sent_tag_dic.keys()]\n",
    "plt.bar(x, y)\n",
    "plt.show()"
   ]
  },
  {
   "cell_type": "markdown",
   "metadata": {},
   "source": [
    "* new dataframe"
   ]
  },
  {
   "cell_type": "code",
   "execution_count": 19,
   "metadata": {},
   "outputs": [
    {
     "data": {
      "text/html": [
       "<div>\n",
       "<style scoped>\n",
       "    .dataframe tbody tr th:only-of-type {\n",
       "        vertical-align: middle;\n",
       "    }\n",
       "\n",
       "    .dataframe tbody tr th {\n",
       "        vertical-align: top;\n",
       "    }\n",
       "\n",
       "    .dataframe thead th {\n",
       "        text-align: right;\n",
       "    }\n",
       "</style>\n",
       "<table border=\"1\" class=\"dataframe\">\n",
       "  <thead>\n",
       "    <tr style=\"text-align: right;\">\n",
       "      <th></th>\n",
       "      <th>label</th>\n",
       "      <th>position</th>\n",
       "      <th>sentence</th>\n",
       "      <th>categories</th>\n",
       "    </tr>\n",
       "  </thead>\n",
       "  <tbody>\n",
       "    <tr>\n",
       "      <th>0</th>\n",
       "      <td>BACKGROUND</td>\n",
       "      <td>0</td>\n",
       "      <td>Rapid popularity of Internet of Things (IoT) a...</td>\n",
       "      <td>cs.CR/cs.AI/q-bio.NC</td>\n",
       "    </tr>\n",
       "    <tr>\n",
       "      <th>10000</th>\n",
       "      <td>BACKGROUND</td>\n",
       "      <td>5</td>\n",
       "      <td>Thus, no positioning service can be obtained i...</td>\n",
       "      <td>cs.NI</td>\n",
       "    </tr>\n",
       "    <tr>\n",
       "      <th>20000</th>\n",
       "      <td>OBJECTIVES</td>\n",
       "      <td>1</td>\n",
       "      <td>The proposed framework is aiming to address tw...</td>\n",
       "      <td>cs.CV</td>\n",
       "    </tr>\n",
       "    <tr>\n",
       "      <th>30000</th>\n",
       "      <td>METHODS</td>\n",
       "      <td>6</td>\n",
       "      <td>Components of the NiftyNet pipeline including ...</td>\n",
       "      <td>cs.CV/cs.LG/cs.NE</td>\n",
       "    </tr>\n",
       "    <tr>\n",
       "      <th>40000</th>\n",
       "      <td>RESULTS</td>\n",
       "      <td>0</td>\n",
       "      <td>In this paper, we provide upper and lower boun...</td>\n",
       "      <td>math.PR/cs.IT/math.IT/math.OC</td>\n",
       "    </tr>\n",
       "    <tr>\n",
       "      <th>50000</th>\n",
       "      <td>CONCLUSIONS</td>\n",
       "      <td>5</td>\n",
       "      <td>These methods allow arbitrary approximations o...</td>\n",
       "      <td>math.OC/cs.NA</td>\n",
       "    </tr>\n",
       "  </tbody>\n",
       "</table>\n",
       "</div>"
      ],
      "text/plain": [
       "             label  position  \\\n",
       "0       BACKGROUND         0   \n",
       "10000   BACKGROUND         5   \n",
       "20000   OBJECTIVES         1   \n",
       "30000      METHODS         6   \n",
       "40000      RESULTS         0   \n",
       "50000  CONCLUSIONS         5   \n",
       "\n",
       "                                                sentence  \\\n",
       "0      Rapid popularity of Internet of Things (IoT) a...   \n",
       "10000  Thus, no positioning service can be obtained i...   \n",
       "20000  The proposed framework is aiming to address tw...   \n",
       "30000  Components of the NiftyNet pipeline including ...   \n",
       "40000  In this paper, we provide upper and lower boun...   \n",
       "50000  These methods allow arbitrary approximations o...   \n",
       "\n",
       "                          categories  \n",
       "0               cs.CR/cs.AI/q-bio.NC  \n",
       "10000                          cs.NI  \n",
       "20000                          cs.CV  \n",
       "30000              cs.CV/cs.LG/cs.NE  \n",
       "40000  math.PR/cs.IT/math.IT/math.OC  \n",
       "50000                  math.OC/cs.NA  "
      ]
     },
     "execution_count": 19,
     "metadata": {},
     "output_type": "execute_result"
    }
   ],
   "source": [
    "df_words = pd.DataFrame([(k, v[0], v[1], v[2]) for k,vlst in sent_tag_dic.items() for v in vlst ],\n",
    "                        columns=['label', 'position', 'sentence', 'categories'])\n",
    "df_words[::10000]"
   ]
  },
  {
   "cell_type": "code",
   "execution_count": 20,
   "metadata": {},
   "outputs": [],
   "source": [
    "df_words['sent_len'] = df_words['sentence'].apply(lambda x: len(x.split(' ')))"
   ]
  },
  {
   "cell_type": "code",
   "execution_count": 22,
   "metadata": {},
   "outputs": [
    {
     "data": {
      "text/html": [
       "<div>\n",
       "<style scoped>\n",
       "    .dataframe tbody tr th:only-of-type {\n",
       "        vertical-align: middle;\n",
       "    }\n",
       "\n",
       "    .dataframe tbody tr th {\n",
       "        vertical-align: top;\n",
       "    }\n",
       "\n",
       "    .dataframe thead th {\n",
       "        text-align: right;\n",
       "    }\n",
       "</style>\n",
       "<table border=\"1\" class=\"dataframe\">\n",
       "  <thead>\n",
       "    <tr style=\"text-align: right;\">\n",
       "      <th></th>\n",
       "      <th>label</th>\n",
       "      <th>position</th>\n",
       "      <th>sentence</th>\n",
       "      <th>categories</th>\n",
       "      <th>sent_len</th>\n",
       "    </tr>\n",
       "  </thead>\n",
       "  <tbody>\n",
       "    <tr>\n",
       "      <th>0</th>\n",
       "      <td>BACKGROUND</td>\n",
       "      <td>0</td>\n",
       "      <td>Rapid popularity of Internet of Things (IoT) a...</td>\n",
       "      <td>cs.CR/cs.AI/q-bio.NC</td>\n",
       "      <td>29</td>\n",
       "    </tr>\n",
       "    <tr>\n",
       "      <th>5000</th>\n",
       "      <td>BACKGROUND</td>\n",
       "      <td>4</td>\n",
       "      <td>Previous methods typically match the whole sou...</td>\n",
       "      <td>cs.CV</td>\n",
       "      <td>32</td>\n",
       "    </tr>\n",
       "    <tr>\n",
       "      <th>10000</th>\n",
       "      <td>BACKGROUND</td>\n",
       "      <td>5</td>\n",
       "      <td>Thus, no positioning service can be obtained i...</td>\n",
       "      <td>cs.NI</td>\n",
       "      <td>10</td>\n",
       "    </tr>\n",
       "    <tr>\n",
       "      <th>15000</th>\n",
       "      <td>OBJECTIVES</td>\n",
       "      <td>0</td>\n",
       "      <td>The ultimate goal of any software developer se...</td>\n",
       "      <td>cs.SE</td>\n",
       "      <td>18</td>\n",
       "    </tr>\n",
       "    <tr>\n",
       "      <th>20000</th>\n",
       "      <td>OBJECTIVES</td>\n",
       "      <td>1</td>\n",
       "      <td>The proposed framework is aiming to address tw...</td>\n",
       "      <td>cs.CV</td>\n",
       "      <td>15</td>\n",
       "    </tr>\n",
       "    <tr>\n",
       "      <th>25000</th>\n",
       "      <td>METHODS</td>\n",
       "      <td>4</td>\n",
       "      <td>Logical and behavioral equivalence of game mod...</td>\n",
       "      <td>cs.LO</td>\n",
       "      <td>9</td>\n",
       "    </tr>\n",
       "    <tr>\n",
       "      <th>30000</th>\n",
       "      <td>METHODS</td>\n",
       "      <td>6</td>\n",
       "      <td>Components of the NiftyNet pipeline including ...</td>\n",
       "      <td>cs.CV/cs.LG/cs.NE</td>\n",
       "      <td>33</td>\n",
       "    </tr>\n",
       "    <tr>\n",
       "      <th>35000</th>\n",
       "      <td>METHODS</td>\n",
       "      <td>4</td>\n",
       "      <td>The deferred write approach is followed to imp...</td>\n",
       "      <td>cs.DC</td>\n",
       "      <td>10</td>\n",
       "    </tr>\n",
       "    <tr>\n",
       "      <th>40000</th>\n",
       "      <td>RESULTS</td>\n",
       "      <td>0</td>\n",
       "      <td>In this paper, we provide upper and lower boun...</td>\n",
       "      <td>math.PR/cs.IT/math.IT/math.OC</td>\n",
       "      <td>22</td>\n",
       "    </tr>\n",
       "    <tr>\n",
       "      <th>45000</th>\n",
       "      <td>RESULTS</td>\n",
       "      <td>3</td>\n",
       "      <td>We show that the information distance is a uni...</td>\n",
       "      <td>cs.IT/math.IT/math.PR/physics.data-an</td>\n",
       "      <td>12</td>\n",
       "    </tr>\n",
       "    <tr>\n",
       "      <th>50000</th>\n",
       "      <td>CONCLUSIONS</td>\n",
       "      <td>5</td>\n",
       "      <td>These methods allow arbitrary approximations o...</td>\n",
       "      <td>math.OC/cs.NA</td>\n",
       "      <td>17</td>\n",
       "    </tr>\n",
       "  </tbody>\n",
       "</table>\n",
       "</div>"
      ],
      "text/plain": [
       "             label  position  \\\n",
       "0       BACKGROUND         0   \n",
       "5000    BACKGROUND         4   \n",
       "10000   BACKGROUND         5   \n",
       "15000   OBJECTIVES         0   \n",
       "20000   OBJECTIVES         1   \n",
       "25000      METHODS         4   \n",
       "30000      METHODS         6   \n",
       "35000      METHODS         4   \n",
       "40000      RESULTS         0   \n",
       "45000      RESULTS         3   \n",
       "50000  CONCLUSIONS         5   \n",
       "\n",
       "                                                sentence  \\\n",
       "0      Rapid popularity of Internet of Things (IoT) a...   \n",
       "5000   Previous methods typically match the whole sou...   \n",
       "10000  Thus, no positioning service can be obtained i...   \n",
       "15000  The ultimate goal of any software developer se...   \n",
       "20000  The proposed framework is aiming to address tw...   \n",
       "25000  Logical and behavioral equivalence of game mod...   \n",
       "30000  Components of the NiftyNet pipeline including ...   \n",
       "35000  The deferred write approach is followed to imp...   \n",
       "40000  In this paper, we provide upper and lower boun...   \n",
       "45000  We show that the information distance is a uni...   \n",
       "50000  These methods allow arbitrary approximations o...   \n",
       "\n",
       "                                  categories  sent_len  \n",
       "0                       cs.CR/cs.AI/q-bio.NC        29  \n",
       "5000                                   cs.CV        32  \n",
       "10000                                  cs.NI        10  \n",
       "15000                                  cs.SE        18  \n",
       "20000                                  cs.CV        15  \n",
       "25000                                  cs.LO         9  \n",
       "30000                      cs.CV/cs.LG/cs.NE        33  \n",
       "35000                                  cs.DC        10  \n",
       "40000          math.PR/cs.IT/math.IT/math.OC        22  \n",
       "45000  cs.IT/math.IT/math.PR/physics.data-an        12  \n",
       "50000                          math.OC/cs.NA        17  "
      ]
     },
     "execution_count": 22,
     "metadata": {},
     "output_type": "execute_result"
    }
   ],
   "source": [
    "df_words[::5000]"
   ]
  },
  {
   "cell_type": "markdown",
   "metadata": {},
   "source": [
    "---"
   ]
  },
  {
   "cell_type": "code",
   "execution_count": null,
   "metadata": {},
   "outputs": [],
   "source": []
  },
  {
   "cell_type": "markdown",
   "metadata": {},
   "source": [
    "---"
   ]
  },
  {
   "cell_type": "code",
   "execution_count": 25,
   "metadata": {},
   "outputs": [],
   "source": [
    "means = [\n",
    "    np.mean(df_words.groupby('label').get_group('METHODS').sent_len.values),\n",
    "    np.mean(df_words.groupby('label').get_group('BACKGROUND').sent_len.values),\n",
    "    np.mean(df_words.groupby('label').get_group('RESULTS').sent_len.values),\n",
    "    np.mean(df_words.groupby('label').get_group('OBJECTIVES').sent_len.values),\n",
    "    np.mean(df_words.groupby('label').get_group('CONCLUSIONS').sent_len.values),\n",
    "    np.mean(df_words.groupby('label').get_group('OTHERS').sent_len.values)\n",
    "]\n",
    "median = [\n",
    "    np.median(df_words.groupby('label').get_group('METHODS').sent_len.values),\n",
    "    np.median(df_words.groupby('label').get_group('BACKGROUND').sent_len.values),\n",
    "    np.median(df_words.groupby('label').get_group('RESULTS').sent_len.values),\n",
    "    np.median(df_words.groupby('label').get_group('OBJECTIVES').sent_len.values),\n",
    "    np.median(df_words.groupby('label').get_group('CONCLUSIONS').sent_len.values),\n",
    "    np.median(df_words.groupby('label').get_group('OTHERS').sent_len.values)\n",
    "]\n",
    "index = ['METHODS', 'BACKGROUND', 'RESULTS', 'OBJECTIVES', 'CONCLUSIONS', 'OTHERS']"
   ]
  },
  {
   "cell_type": "code",
   "execution_count": 26,
   "metadata": {},
   "outputs": [
    {
     "data": {
      "text/plain": [
       "<matplotlib.axes._subplots.AxesSubplot at 0x1a22b79128>"
      ]
     },
     "execution_count": 26,
     "metadata": {},
     "output_type": "execute_result"
    },
    {
     "data": {
      "image/png": "[encoded data removed]",
      "text/plain": [
       "<Figure size 648x504 with 1 Axes>"
      ]
     },
     "metadata": {
      "needs_background": "light"
     },
     "output_type": "display_data"
    }
   ],
   "source": [
    "import matplotlib.pyplot as plt\n",
    "%matplotlib inline\n",
    "\n",
    "\n",
    "mixed_X = pd.DataFrame({'mean':means, \n",
    "                        'median':median}, \n",
    "                        index=index)\n",
    "mixed_X.plot.bar(rot=0, figsize=(9,7))"
   ]
  },
  {
   "cell_type": "code",
   "execution_count": 27,
   "metadata": {},
   "outputs": [
    {
     "data": {
      "text/plain": [
       "METHODS        13655\n",
       "BACKGROUND     13353\n",
       "RESULTS        11772\n",
       "OBJECTIVES      9329\n",
       "CONCLUSIONS     5313\n",
       "OTHERS           901\n",
       "Name: label, dtype: int64"
      ]
     },
     "execution_count": 27,
     "metadata": {},
     "output_type": "execute_result"
    }
   ],
   "source": [
    "df_words.label.value_counts()"
   ]
  },
  {
   "cell_type": "code",
   "execution_count": 28,
   "metadata": {},
   "outputs": [
    {
     "data": {
      "text/plain": [
       "array(['BACKGROUND', 0,\n",
       "       'An adversarial example is an example that has been adjusted to produce the wrong label when presented to a system at test time.',\n",
       "       'cs.CV/cs.AI/cs.GR', 23], dtype=object)"
      ]
     },
     "execution_count": 28,
     "metadata": {},
     "output_type": "execute_result"
    }
   ],
   "source": [
    "df_words.values[133]"
   ]
  },
  {
   "cell_type": "code",
   "execution_count": 29,
   "metadata": {},
   "outputs": [
    {
     "data": {
      "text/plain": [
       "label\n",
       "BACKGROUND     13353\n",
       "CONCLUSIONS     5313\n",
       "METHODS        13655\n",
       "OBJECTIVES      9329\n",
       "OTHERS           901\n",
       "RESULTS        11772\n",
       "dtype: int64"
      ]
     },
     "execution_count": 29,
     "metadata": {},
     "output_type": "execute_result"
    }
   ],
   "source": [
    "df_words.groupby('label').size()"
   ]
  },
  {
   "cell_type": "code",
   "execution_count": null,
   "metadata": {},
   "outputs": [],
   "source": []
  }
 ],
 "metadata": {
  "kernelspec": {
   "display_name": "Python 3",
   "language": "python",
   "name": "python3"
  },
  "language_info": {
   "codemirror_mode": {
    "name": "ipython",
    "version": 3
   },
   "file_extension": ".py",
   "mimetype": "text/x-python",
   "name": "python",
   "nbconvert_exporter": "python",
   "pygments_lexer": "ipython3",
   "version": "3.7.3"
  },
  "toc": {
   "base_numbering": 1,
   "nav_menu": {},
   "number_sections": true,
   "sideBar": true,
   "skip_h1_title": false,
   "title_cell": "Table of Contents",
   "title_sidebar": "Contents",
   "toc_cell": false,
   "toc_position": {},
   "toc_section_display": true,
   "toc_window_display": false
  }
 },
 "nbformat": 4,
 "nbformat_minor": 2
}
