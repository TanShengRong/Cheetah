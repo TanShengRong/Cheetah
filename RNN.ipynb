{
 "cells": [
  {
   "cell_type": "markdown",
   "metadata": {},
   "source": [
    "# RNN"
   ]
  },
  {
   "cell_type": "markdown",
   "metadata": {},
   "source": [
    "## Data\n",
    "\n",
    "Load back the dataframe that's been pre-processed at last stage."
   ]
  },
  {
   "cell_type": "code",
   "execution_count": 14,
   "metadata": {},
   "outputs": [],
   "source": [
    "import pandas as pd\n",
    "import nltk\n",
    "\n",
    "def custom_tokenize(text):\n",
    "    text = ''.join([ch for ch in text if not ch.isdigit() and \n",
    "                    ch not in ['@', '#', ':', '.', ',', ';', '$', '%', '&', '\\'',\n",
    "                               '-', '(', ')', '-', '[', ']', '“', '”', '\\'\\'', '+',\n",
    "                               '/', '``', '|', '—']])\n",
    "    tokens = nltk.word_tokenize(text)\n",
    "    return tokens\n",
    "\n",
    "df_words = pd.read_pickle(\"./df/df_words.pkl\")"
   ]
  },
  {
   "cell_type": "markdown",
   "metadata": {},
   "source": [
    "### Split training and validating set : 80-20"
   ]
  },
  {
   "cell_type": "code",
   "execution_count": 17,
   "metadata": {},
   "outputs": [],
   "source": [
    "import pandas as pd\n",
    "X_train = pd.read_pickle(\"./df/X_train.pkl\")\n",
    "X_test  = pd.read_pickle(\"./df/X_test.pkl\") \n",
    "y_train = pd.read_pickle(\"./df/y_train.pkl\")\n",
    "y_test  = pd.read_pickle(\"./df/y_test.pkl\")"
   ]
  },
  {
   "cell_type": "markdown",
   "metadata": {},
   "source": [
    "## Evaluate on Validation Set"
   ]
  },
  {
   "cell_type": "code",
   "execution_count": 1,
   "metadata": {},
   "outputs": [
    {
     "name": "stderr",
     "output_type": "stream",
     "text": [
      "Using TensorFlow backend.\n"
     ]
    },
    {
     "name": "stdout",
     "output_type": "stream",
     "text": [
      "WARNING:tensorflow:From /Users/user/anaconda3/lib/python3.7/site-packages/keras/backend/tensorflow_backend.py:517: The name tf.placeholder is deprecated. Please use tf.compat.v1.placeholder instead.\n",
      "\n",
      "WARNING:tensorflow:From /Users/user/anaconda3/lib/python3.7/site-packages/keras/backend/tensorflow_backend.py:74: The name tf.get_default_graph is deprecated. Please use tf.compat.v1.get_default_graph instead.\n",
      "\n",
      "WARNING:tensorflow:From /Users/user/anaconda3/lib/python3.7/site-packages/keras/backend/tensorflow_backend.py:4138: The name tf.random_uniform is deprecated. Please use tf.random.uniform instead.\n",
      "\n",
      "WARNING:tensorflow:From /Users/user/anaconda3/lib/python3.7/site-packages/keras/backend/tensorflow_backend.py:174: The name tf.get_default_session is deprecated. Please use tf.compat.v1.get_default_session instead.\n",
      "\n",
      "WARNING:tensorflow:From /Users/user/anaconda3/lib/python3.7/site-packages/keras/backend/tensorflow_backend.py:181: The name tf.ConfigProto is deprecated. Please use tf.compat.v1.ConfigProto instead.\n",
      "\n",
      "WARNING:tensorflow:From /Users/user/anaconda3/lib/python3.7/site-packages/keras/optimizers.py:790: The name tf.train.Optimizer is deprecated. Please use tf.compat.v1.train.Optimizer instead.\n",
      "\n",
      "WARNING:tensorflow:From /Users/user/anaconda3/lib/python3.7/site-packages/tensorflow/python/ops/math_grad.py:1250: add_dispatch_support.<locals>.wrapper (from tensorflow.python.ops.array_ops) is deprecated and will be removed in a future version.\n",
      "Instructions for updating:\n",
      "Use tf.where in 2.0, which has the same broadcast rule as np.where\n"
     ]
    }
   ],
   "source": [
    "from keras.models import load_model\n",
    "model = load_model('./model/rnn_glove_additional.h5')"
   ]
  },
  {
   "cell_type": "code",
   "execution_count": 2,
   "metadata": {},
   "outputs": [],
   "source": [
    "import pandas as pd\n",
    "X_train = pd.read_pickle(\"./df/X_train.pkl\")\n",
    "X_test  = pd.read_pickle(\"./df/X_test.pkl\") \n",
    "y_train = pd.read_pickle(\"./df/y_train.pkl\")\n",
    "y_test  = pd.read_pickle(\"./df/y_test.pkl\")"
   ]
  },
  {
   "cell_type": "code",
   "execution_count": 3,
   "metadata": {},
   "outputs": [
    {
     "name": "stdout",
     "output_type": "stream",
     "text": [
      "CPU times: user 952 ms, sys: 7.01 ms, total: 959 ms\n",
      "Wall time: 959 ms\n"
     ]
    }
   ],
   "source": [
    "%%time\n",
    "from keras.preprocessing.text import Tokenizer\n",
    "\n",
    "# keras tokenizer\n",
    "tokenizer = Tokenizer(num_words=20000,\n",
    "                      filters='!\"#$%&()*+,-./:;<=>?@[\\]^_`{|}~',\n",
    "                      lower=True)\n",
    "\n",
    "tokenizer.fit_on_texts(X_train['sentence'].values)\n",
    "\n",
    "word_index = tokenizer.word_index"
   ]
  },
  {
   "cell_type": "code",
   "execution_count": 4,
   "metadata": {},
   "outputs": [
    {
     "name": "stdout",
     "output_type": "stream",
     "text": [
      "CPU times: user 916 ms, sys: 13.2 ms, total: 930 ms\n",
      "Wall time: 929 ms\n"
     ]
    },
    {
     "data": {
      "text/plain": [
       "(43458, 181)"
      ]
     },
     "execution_count": 4,
     "metadata": {},
     "output_type": "execute_result"
    }
   ],
   "source": [
    "%%time\n",
    "\n",
    "from keras.preprocessing.sequence import pad_sequences\n",
    "\n",
    "X_train_seq = tokenizer.texts_to_sequences(X_train['sentence'].values)\n",
    "\n",
    "X_train_seq = pad_sequences(X_train_seq, maxlen=181) \n",
    "X_train_seq.shape"
   ]
  },
  {
   "cell_type": "code",
   "execution_count": 5,
   "metadata": {},
   "outputs": [
    {
     "data": {
      "text/plain": [
       "(43458, 6)"
      ]
     },
     "execution_count": 5,
     "metadata": {},
     "output_type": "execute_result"
    }
   ],
   "source": [
    "y_train_series = pd.get_dummies(y_train).values\n",
    "y_train_series.shape"
   ]
  },
  {
   "cell_type": "code",
   "execution_count": 6,
   "metadata": {},
   "outputs": [
    {
     "name": "stdout",
     "output_type": "stream",
     "text": [
      "(10865, 181)\n"
     ]
    },
    {
     "data": {
      "text/plain": [
       "(10865, 6)"
      ]
     },
     "execution_count": 6,
     "metadata": {},
     "output_type": "execute_result"
    }
   ],
   "source": [
    "## prepare for evaluation data as well\n",
    "\n",
    "X_test_seq = tokenizer.texts_to_sequences(X_test['sentence'].values)\n",
    "X_test_seq = pad_sequences(X_test_seq, maxlen=181) \n",
    "\n",
    "y_test_series = pd.get_dummies(y_test).values\n",
    "\n",
    "print(X_test_seq.shape) # 10865 sentence with 181 terms sequence (pad if less than 181)\n",
    "y_test_series.shape "
   ]
  },
  {
   "cell_type": "code",
   "execution_count": 7,
   "metadata": {},
   "outputs": [],
   "source": [
    "X_train_other = X_train[['position', 'sent_len']].values\n",
    "X_test_other =   X_test[['position', 'sent_len']].values"
   ]
  },
  {
   "cell_type": "code",
   "execution_count": 10,
   "metadata": {},
   "outputs": [],
   "source": [
    "import pickle\n",
    "\n",
    "with open('./label_lookup.pkl', 'rb') as f:\n",
    "    label_lookup = pickle.load(f)"
   ]
  },
  {
   "cell_type": "code",
   "execution_count": 11,
   "metadata": {},
   "outputs": [
    {
     "data": {
      "text/plain": [
       "{3: 'OBJECTIVES',\n",
       " 2: 'METHODS',\n",
       " 1: 'CONCLUSIONS',\n",
       " 0: 'BACKGROUND',\n",
       " 5: 'RESULTS',\n",
       " 4: 'OTHERS'}"
      ]
     },
     "execution_count": 11,
     "metadata": {},
     "output_type": "execute_result"
    }
   ],
   "source": [
    "label_lookup"
   ]
  },
  {
   "cell_type": "code",
   "execution_count": 12,
   "metadata": {},
   "outputs": [
    {
     "data": {
      "text/plain": [
       "(10865, 6)"
      ]
     },
     "execution_count": 12,
     "metadata": {},
     "output_type": "execute_result"
    }
   ],
   "source": [
    "pred_result[0].shape"
   ]
  },
  {
   "cell_type": "code",
   "execution_count": 13,
   "metadata": {},
   "outputs": [
    {
     "name": "stdout",
     "output_type": "stream",
     "text": [
      "0.5766221813161528\n",
      "              precision    recall  f1-score   support\n",
      "\n",
      "  BACKGROUND       0.74      0.77      0.75      2718\n",
      " CONCLUSIONS       0.45      0.08      0.14      1044\n",
      "     METHODS       0.57      0.57      0.57      2759\n",
      "  OBJECTIVES       0.46      0.52      0.49      1799\n",
      "      OTHERS       0.56      0.15      0.23       192\n",
      "     RESULTS       0.52      0.66      0.58      2353\n",
      "\n",
      "    accuracy                           0.58     10865\n",
      "   macro avg       0.55      0.46      0.46     10865\n",
      "weighted avg       0.57      0.58      0.56     10865\n",
      "\n"
     ]
    }
   ],
   "source": [
    "import numpy as np\n",
    "\n",
    "def get_labels(seq):\n",
    "    return [label_lookup[np.argmax(s)] for s in seq]\n",
    "\n",
    "from sklearn.metrics import accuracy_score\n",
    "from sklearn.metrics import classification_report\n",
    "\n",
    "y_pred = get_labels(pred_result[0])\n",
    "\n",
    "print(accuracy_score(y_test, y_pred))\n",
    "print(classification_report(y_true=y_test, y_pred=y_pred))"
   ]
  },
  {
   "cell_type": "markdown",
   "metadata": {},
   "source": [
    "Accuracy score seems higher."
   ]
  },
  {
   "cell_type": "code",
   "execution_count": 62,
   "metadata": {},
   "outputs": [],
   "source": [
    "import pickle\n",
    "\n",
    "# save model & history\n",
    "model.save('./model/rnn_glove_additional.h5')   \n",
    "pickle.dump(history, open(\"./model/rnn_glove_additional_history.pkl\", \"wb\"))"
   ]
  },
  {
   "cell_type": "markdown",
   "metadata": {},
   "source": [
    "----"
   ]
  },
  {
   "cell_type": "code",
   "execution_count": 14,
   "metadata": {},
   "outputs": [
    {
     "data": {
      "text/html": [
       "<div>\n",
       "<style scoped>\n",
       "    .dataframe tbody tr th:only-of-type {\n",
       "        vertical-align: middle;\n",
       "    }\n",
       "\n",
       "    .dataframe tbody tr th {\n",
       "        vertical-align: top;\n",
       "    }\n",
       "\n",
       "    .dataframe thead th {\n",
       "        text-align: right;\n",
       "    }\n",
       "</style>\n",
       "<table border=\"1\" class=\"dataframe\">\n",
       "  <thead>\n",
       "    <tr style=\"text-align: right;\">\n",
       "      <th></th>\n",
       "      <th>position</th>\n",
       "      <th>sentence</th>\n",
       "      <th>categories</th>\n",
       "      <th>sent_len</th>\n",
       "    </tr>\n",
       "  </thead>\n",
       "  <tbody>\n",
       "    <tr>\n",
       "      <th>3419</th>\n",
       "      <td>1</td>\n",
       "      <td>The available bandwidths of modern wireless ne...</td>\n",
       "      <td>cs.MM</td>\n",
       "      <td>18</td>\n",
       "    </tr>\n",
       "    <tr>\n",
       "      <th>18762</th>\n",
       "      <td>2</td>\n",
       "      <td>Motivated by the excellent human performance, ...</td>\n",
       "      <td>cs.SD/cs.LG/eess.AS/stat.ML</td>\n",
       "      <td>33</td>\n",
       "    </tr>\n",
       "    <tr>\n",
       "      <th>16492</th>\n",
       "      <td>0</td>\n",
       "      <td>We study networks of human decision-makers who...</td>\n",
       "      <td>cs.GT/cs.SI/cs.SY</td>\n",
       "      <td>17</td>\n",
       "    </tr>\n",
       "    <tr>\n",
       "      <th>21122</th>\n",
       "      <td>0</td>\n",
       "      <td>This paper seeks to combine differential game ...</td>\n",
       "      <td>cs.SY/math.OC</td>\n",
       "      <td>32</td>\n",
       "    </tr>\n",
       "    <tr>\n",
       "      <th>32679</th>\n",
       "      <td>5</td>\n",
       "      <td>Typical applications of link prediction are al...</td>\n",
       "      <td>cs.SI/physics.soc-ph</td>\n",
       "      <td>8</td>\n",
       "    </tr>\n",
       "  </tbody>\n",
       "</table>\n",
       "</div>"
      ],
      "text/plain": [
       "       position                                           sentence  \\\n",
       "3419          1  The available bandwidths of modern wireless ne...   \n",
       "18762         2  Motivated by the excellent human performance, ...   \n",
       "16492         0  We study networks of human decision-makers who...   \n",
       "21122         0  This paper seeks to combine differential game ...   \n",
       "32679         5  Typical applications of link prediction are al...   \n",
       "\n",
       "                        categories  sent_len  \n",
       "3419                         cs.MM        18  \n",
       "18762  cs.SD/cs.LG/eess.AS/stat.ML        33  \n",
       "16492            cs.GT/cs.SI/cs.SY        17  \n",
       "21122                cs.SY/math.OC        32  \n",
       "32679         cs.SI/physics.soc-ph         8  "
      ]
     },
     "execution_count": 14,
     "metadata": {},
     "output_type": "execute_result"
    }
   ],
   "source": [
    "X_test.head()"
   ]
  },
  {
   "cell_type": "markdown",
   "metadata": {},
   "source": [
    "---"
   ]
  },
  {
   "cell_type": "markdown",
   "metadata": {},
   "source": [
    "## Testing Data"
   ]
  },
  {
   "cell_type": "code",
   "execution_count": 15,
   "metadata": {},
   "outputs": [],
   "source": [
    "import pandas as pd\n",
    "\n",
    "# train_file = 'task1_public_testset.csv'\n",
    "train_file = 'task1_private_testset.csv'\n",
    "df = pd.read_csv(train_file) "
   ]
  },
  {
   "cell_type": "code",
   "execution_count": 16,
   "metadata": {},
   "outputs": [
    {
     "data": {
      "text/html": [
       "<div>\n",
       "<style scoped>\n",
       "    .dataframe tbody tr th:only-of-type {\n",
       "        vertical-align: middle;\n",
       "    }\n",
       "\n",
       "    .dataframe tbody tr th {\n",
       "        vertical-align: top;\n",
       "    }\n",
       "\n",
       "    .dataframe thead th {\n",
       "        text-align: right;\n",
       "    }\n",
       "</style>\n",
       "<table border=\"1\" class=\"dataframe\">\n",
       "  <thead>\n",
       "    <tr style=\"text-align: right;\">\n",
       "      <th></th>\n",
       "      <th>Id</th>\n",
       "      <th>Title</th>\n",
       "      <th>Abstract</th>\n",
       "      <th>Authors</th>\n",
       "      <th>Categories</th>\n",
       "      <th>Created Date</th>\n",
       "    </tr>\n",
       "  </thead>\n",
       "  <tbody>\n",
       "    <tr>\n",
       "      <th>0</th>\n",
       "      <td>T20001</td>\n",
       "      <td>Smart \"Predict, then Optimize\"</td>\n",
       "      <td>Many real-world analytics problems involve two...</td>\n",
       "      <td>Elmachtoub/Grigas</td>\n",
       "      <td>math.OC/cs.LG/stat.ML</td>\n",
       "      <td>2017-10-22</td>\n",
       "    </tr>\n",
       "    <tr>\n",
       "      <th>1</th>\n",
       "      <td>T20002</td>\n",
       "      <td>On the variable hierarchy of first-order spectra</td>\n",
       "      <td>The spectrum of a first-order logic sentence i...</td>\n",
       "      <td>Kopczynski/Tan</td>\n",
       "      <td>cs.LO/cs.CC</td>\n",
       "      <td>2014-03-10</td>\n",
       "    </tr>\n",
       "    <tr>\n",
       "      <th>2</th>\n",
       "      <td>T20003</td>\n",
       "      <td>Guaranteed Sufficient Decrease for Stochastic ...</td>\n",
       "      <td>In this paper, we propose a novel sufficient d...</td>\n",
       "      <td>Shang/Liu/Zhou/Cheng/Ng/Yoshida</td>\n",
       "      <td>stat.ML/cs.DS/cs.LG/math.OC</td>\n",
       "      <td>2018-02-25</td>\n",
       "    </tr>\n",
       "    <tr>\n",
       "      <th>3</th>\n",
       "      <td>T20004</td>\n",
       "      <td>Non Binary Local Gradient Contours for Face Re...</td>\n",
       "      <td>As the features from the traditional Local Bin...</td>\n",
       "      <td>Gubbi/Azeem/Kumari</td>\n",
       "      <td>cs.CV</td>\n",
       "      <td>2014-11-03</td>\n",
       "    </tr>\n",
       "    <tr>\n",
       "      <th>4</th>\n",
       "      <td>T20005</td>\n",
       "      <td>Tree-Based Optimization: A Meta-Algorithm for ...</td>\n",
       "      <td>Designing search algorithms for finding global...</td>\n",
       "      <td>Ghojogh/Sharifian/Mohammadzade</td>\n",
       "      <td>cs.NE</td>\n",
       "      <td>2018-09-24</td>\n",
       "    </tr>\n",
       "  </tbody>\n",
       "</table>\n",
       "</div>"
      ],
      "text/plain": [
       "       Id                                              Title  \\\n",
       "0  T20001                     Smart \"Predict, then Optimize\"   \n",
       "1  T20002   On the variable hierarchy of first-order spectra   \n",
       "2  T20003  Guaranteed Sufficient Decrease for Stochastic ...   \n",
       "3  T20004  Non Binary Local Gradient Contours for Face Re...   \n",
       "4  T20005  Tree-Based Optimization: A Meta-Algorithm for ...   \n",
       "\n",
       "                                            Abstract  \\\n",
       "0  Many real-world analytics problems involve two...   \n",
       "1  The spectrum of a first-order logic sentence i...   \n",
       "2  In this paper, we propose a novel sufficient d...   \n",
       "3  As the features from the traditional Local Bin...   \n",
       "4  Designing search algorithms for finding global...   \n",
       "\n",
       "                           Authors                   Categories Created Date  \n",
       "0                Elmachtoub/Grigas        math.OC/cs.LG/stat.ML   2017-10-22  \n",
       "1                   Kopczynski/Tan                  cs.LO/cs.CC   2014-03-10  \n",
       "2  Shang/Liu/Zhou/Cheng/Ng/Yoshida  stat.ML/cs.DS/cs.LG/math.OC   2018-02-25  \n",
       "3               Gubbi/Azeem/Kumari                        cs.CV   2014-11-03  \n",
       "4   Ghojogh/Sharifian/Mohammadzade                        cs.NE   2018-09-24  "
      ]
     },
     "execution_count": 16,
     "metadata": {},
     "output_type": "execute_result"
    }
   ],
   "source": [
    "df.head()"
   ]
  },
  {
   "cell_type": "code",
   "execution_count": 17,
   "metadata": {},
   "outputs": [
    {
     "data": {
      "text/html": [
       "<div>\n",
       "<style scoped>\n",
       "    .dataframe tbody tr th:only-of-type {\n",
       "        vertical-align: middle;\n",
       "    }\n",
       "\n",
       "    .dataframe tbody tr th {\n",
       "        vertical-align: top;\n",
       "    }\n",
       "\n",
       "    .dataframe thead th {\n",
       "        text-align: right;\n",
       "    }\n",
       "</style>\n",
       "<table border=\"1\" class=\"dataframe\">\n",
       "  <thead>\n",
       "    <tr style=\"text-align: right;\">\n",
       "      <th></th>\n",
       "      <th>Id</th>\n",
       "      <th>Title</th>\n",
       "      <th>Abstract</th>\n",
       "      <th>Authors</th>\n",
       "      <th>Categories</th>\n",
       "      <th>Created Date</th>\n",
       "      <th>sent</th>\n",
       "    </tr>\n",
       "  </thead>\n",
       "  <tbody>\n",
       "    <tr>\n",
       "      <th>0</th>\n",
       "      <td>T20001</td>\n",
       "      <td>Smart \"Predict, then Optimize\"</td>\n",
       "      <td>Many real-world analytics problems involve two...</td>\n",
       "      <td>Elmachtoub/Grigas</td>\n",
       "      <td>math.OC/cs.LG/stat.ML</td>\n",
       "      <td>2017-10-22</td>\n",
       "      <td>[Many real-world analytics problems involve tw...</td>\n",
       "    </tr>\n",
       "    <tr>\n",
       "      <th>1</th>\n",
       "      <td>T20002</td>\n",
       "      <td>On the variable hierarchy of first-order spectra</td>\n",
       "      <td>The spectrum of a first-order logic sentence i...</td>\n",
       "      <td>Kopczynski/Tan</td>\n",
       "      <td>cs.LO/cs.CC</td>\n",
       "      <td>2014-03-10</td>\n",
       "      <td>[The spectrum of a first-order logic sentence ...</td>\n",
       "    </tr>\n",
       "    <tr>\n",
       "      <th>2</th>\n",
       "      <td>T20003</td>\n",
       "      <td>Guaranteed Sufficient Decrease for Stochastic ...</td>\n",
       "      <td>In this paper, we propose a novel sufficient d...</td>\n",
       "      <td>Shang/Liu/Zhou/Cheng/Ng/Yoshida</td>\n",
       "      <td>stat.ML/cs.DS/cs.LG/math.OC</td>\n",
       "      <td>2018-02-25</td>\n",
       "      <td>[In this paper, we propose a novel sufficient ...</td>\n",
       "    </tr>\n",
       "    <tr>\n",
       "      <th>3</th>\n",
       "      <td>T20004</td>\n",
       "      <td>Non Binary Local Gradient Contours for Face Re...</td>\n",
       "      <td>As the features from the traditional Local Bin...</td>\n",
       "      <td>Gubbi/Azeem/Kumari</td>\n",
       "      <td>cs.CV</td>\n",
       "      <td>2014-11-03</td>\n",
       "      <td>[As the features from the traditional Local Bi...</td>\n",
       "    </tr>\n",
       "    <tr>\n",
       "      <th>4</th>\n",
       "      <td>T20005</td>\n",
       "      <td>Tree-Based Optimization: A Meta-Algorithm for ...</td>\n",
       "      <td>Designing search algorithms for finding global...</td>\n",
       "      <td>Ghojogh/Sharifian/Mohammadzade</td>\n",
       "      <td>cs.NE</td>\n",
       "      <td>2018-09-24</td>\n",
       "      <td>[Designing search algorithms for finding globa...</td>\n",
       "    </tr>\n",
       "  </tbody>\n",
       "</table>\n",
       "</div>"
      ],
      "text/plain": [
       "       Id                                              Title  \\\n",
       "0  T20001                     Smart \"Predict, then Optimize\"   \n",
       "1  T20002   On the variable hierarchy of first-order spectra   \n",
       "2  T20003  Guaranteed Sufficient Decrease for Stochastic ...   \n",
       "3  T20004  Non Binary Local Gradient Contours for Face Re...   \n",
       "4  T20005  Tree-Based Optimization: A Meta-Algorithm for ...   \n",
       "\n",
       "                                            Abstract  \\\n",
       "0  Many real-world analytics problems involve two...   \n",
       "1  The spectrum of a first-order logic sentence i...   \n",
       "2  In this paper, we propose a novel sufficient d...   \n",
       "3  As the features from the traditional Local Bin...   \n",
       "4  Designing search algorithms for finding global...   \n",
       "\n",
       "                           Authors                   Categories Created Date  \\\n",
       "0                Elmachtoub/Grigas        math.OC/cs.LG/stat.ML   2017-10-22   \n",
       "1                   Kopczynski/Tan                  cs.LO/cs.CC   2014-03-10   \n",
       "2  Shang/Liu/Zhou/Cheng/Ng/Yoshida  stat.ML/cs.DS/cs.LG/math.OC   2018-02-25   \n",
       "3               Gubbi/Azeem/Kumari                        cs.CV   2014-11-03   \n",
       "4   Ghojogh/Sharifian/Mohammadzade                        cs.NE   2018-09-24   \n",
       "\n",
       "                                                sent  \n",
       "0  [Many real-world analytics problems involve tw...  \n",
       "1  [The spectrum of a first-order logic sentence ...  \n",
       "2  [In this paper, we propose a novel sufficient ...  \n",
       "3  [As the features from the traditional Local Bi...  \n",
       "4  [Designing search algorithms for finding globa...  "
      ]
     },
     "execution_count": 17,
     "metadata": {},
     "output_type": "execute_result"
    }
   ],
   "source": [
    "df['sent'] = df[['Abstract']].apply(lambda x: list(x['Abstract'].split('$$$')), axis=1)\n",
    "df.head()"
   ]
  },
  {
   "cell_type": "code",
   "execution_count": 18,
   "metadata": {},
   "outputs": [
    {
     "name": "stdout",
     "output_type": "stream",
     "text": [
      "20000\n",
      "20000\n"
     ]
    }
   ],
   "source": [
    "print(len(df['sent'].values))\n",
    "print(len(df['Categories'].values))"
   ]
  },
  {
   "cell_type": "code",
   "execution_count": 19,
   "metadata": {},
   "outputs": [
    {
     "data": {
      "text/plain": [
       "('Many real-world analytics problems involve two significant challenges: prediction and optimization.',\n",
       " 0,\n",
       " 'T20001')"
      ]
     },
     "execution_count": 19,
     "metadata": {},
     "output_type": "execute_result"
    }
   ],
   "source": [
    "# (sentence, position_in_abstract, categories)\n",
    "sent_dic = [(s, idx, df['Id'].values[index]) \n",
    "            for index, sent in enumerate(df['sent'].values) \n",
    "            for idx, s in enumerate(sent)]\n",
    "sent_dic[0]"
   ]
  },
  {
   "cell_type": "code",
   "execution_count": 20,
   "metadata": {},
   "outputs": [
    {
     "data": {
      "text/plain": [
       "('Due to the typically complex nature of each challenge, the standard paradigm is to predict, then optimize.',\n",
       " 1,\n",
       " 'T20001')"
      ]
     },
     "execution_count": 20,
     "metadata": {},
     "output_type": "execute_result"
    }
   ],
   "source": [
    "sent_dic[1]"
   ]
  },
  {
   "cell_type": "code",
   "execution_count": 21,
   "metadata": {},
   "outputs": [],
   "source": [
    "sent_dict = dict()\n",
    "for snt, ind, sid in sent_dic:\n",
    "    if sid not in sent_dict:\n",
    "        sent_dict.update({sid:[(ind, snt)]})\n",
    "    else:\n",
    "        sent_dict[sid].append((ind, snt))"
   ]
  },
  {
   "cell_type": "code",
   "execution_count": 22,
   "metadata": {},
   "outputs": [
    {
     "data": {
      "text/html": [
       "<div>\n",
       "<style scoped>\n",
       "    .dataframe tbody tr th:only-of-type {\n",
       "        vertical-align: middle;\n",
       "    }\n",
       "\n",
       "    .dataframe tbody tr th {\n",
       "        vertical-align: top;\n",
       "    }\n",
       "\n",
       "    .dataframe thead th {\n",
       "        text-align: right;\n",
       "    }\n",
       "</style>\n",
       "<table border=\"1\" class=\"dataframe\">\n",
       "  <thead>\n",
       "    <tr style=\"text-align: right;\">\n",
       "      <th></th>\n",
       "      <th>Id</th>\n",
       "      <th>position</th>\n",
       "      <th>sentence</th>\n",
       "    </tr>\n",
       "  </thead>\n",
       "  <tbody>\n",
       "    <tr>\n",
       "      <th>0</th>\n",
       "      <td>T20001</td>\n",
       "      <td>0</td>\n",
       "      <td>Many real-world analytics problems involve two...</td>\n",
       "    </tr>\n",
       "    <tr>\n",
       "      <th>1</th>\n",
       "      <td>T20001</td>\n",
       "      <td>1</td>\n",
       "      <td>Due to the typically complex nature of each ch...</td>\n",
       "    </tr>\n",
       "    <tr>\n",
       "      <th>2</th>\n",
       "      <td>T20001</td>\n",
       "      <td>2</td>\n",
       "      <td>By and large, machine learning tools are inten...</td>\n",
       "    </tr>\n",
       "    <tr>\n",
       "      <th>3</th>\n",
       "      <td>T20001</td>\n",
       "      <td>3</td>\n",
       "      <td>In contrast, we propose a new and very general...</td>\n",
       "    </tr>\n",
       "    <tr>\n",
       "      <th>4</th>\n",
       "      <td>T20001</td>\n",
       "      <td>4</td>\n",
       "      <td>A key component of our framework is the SPO lo...</td>\n",
       "    </tr>\n",
       "    <tr>\n",
       "      <th>5</th>\n",
       "      <td>T20001</td>\n",
       "      <td>5</td>\n",
       "      <td>Training a model with respect to the SPO loss ...</td>\n",
       "    </tr>\n",
       "    <tr>\n",
       "      <th>6</th>\n",
       "      <td>T20001</td>\n",
       "      <td>6</td>\n",
       "      <td>We also propose a stochastic gradient descent ...</td>\n",
       "    </tr>\n",
       "    <tr>\n",
       "      <th>7</th>\n",
       "      <td>T20001</td>\n",
       "      <td>7</td>\n",
       "      <td>Finally, we perform computational experiments ...</td>\n",
       "    </tr>\n",
       "    <tr>\n",
       "      <th>8</th>\n",
       "      <td>T20002</td>\n",
       "      <td>0</td>\n",
       "      <td>The spectrum of a first-order logic sentence i...</td>\n",
       "    </tr>\n",
       "    <tr>\n",
       "      <th>9</th>\n",
       "      <td>T20002</td>\n",
       "      <td>1</td>\n",
       "      <td>In this paper we study the hierarchy of first-...</td>\n",
       "    </tr>\n",
       "  </tbody>\n",
       "</table>\n",
       "</div>"
      ],
      "text/plain": [
       "       Id  position                                           sentence\n",
       "0  T20001         0  Many real-world analytics problems involve two...\n",
       "1  T20001         1  Due to the typically complex nature of each ch...\n",
       "2  T20001         2  By and large, machine learning tools are inten...\n",
       "3  T20001         3  In contrast, we propose a new and very general...\n",
       "4  T20001         4  A key component of our framework is the SPO lo...\n",
       "5  T20001         5  Training a model with respect to the SPO loss ...\n",
       "6  T20001         6  We also propose a stochastic gradient descent ...\n",
       "7  T20001         7  Finally, we perform computational experiments ...\n",
       "8  T20002         0  The spectrum of a first-order logic sentence i...\n",
       "9  T20002         1  In this paper we study the hierarchy of first-..."
      ]
     },
     "execution_count": 22,
     "metadata": {},
     "output_type": "execute_result"
    }
   ],
   "source": [
    "df_words = pd.DataFrame([(k, v[0], v[1]) for k,vlst in sent_dict.items() for v in vlst ],\n",
    "                        columns=['Id', 'position', 'sentence'])\n",
    "df_words.head(10)"
   ]
  },
  {
   "cell_type": "code",
   "execution_count": 23,
   "metadata": {},
   "outputs": [],
   "source": [
    "df_words['sent_len'] = df_words['sentence'].apply(lambda x: len(x.split(' ')))"
   ]
  },
  {
   "cell_type": "code",
   "execution_count": 24,
   "metadata": {},
   "outputs": [
    {
     "data": {
      "text/html": [
       "<div>\n",
       "<style scoped>\n",
       "    .dataframe tbody tr th:only-of-type {\n",
       "        vertical-align: middle;\n",
       "    }\n",
       "\n",
       "    .dataframe tbody tr th {\n",
       "        vertical-align: top;\n",
       "    }\n",
       "\n",
       "    .dataframe thead th {\n",
       "        text-align: right;\n",
       "    }\n",
       "</style>\n",
       "<table border=\"1\" class=\"dataframe\">\n",
       "  <thead>\n",
       "    <tr style=\"text-align: right;\">\n",
       "      <th></th>\n",
       "      <th>Id</th>\n",
       "      <th>position</th>\n",
       "      <th>sentence</th>\n",
       "      <th>sent_len</th>\n",
       "    </tr>\n",
       "  </thead>\n",
       "  <tbody>\n",
       "    <tr>\n",
       "      <th>0</th>\n",
       "      <td>T20001</td>\n",
       "      <td>0</td>\n",
       "      <td>Many real-world analytics problems involve two...</td>\n",
       "      <td>11</td>\n",
       "    </tr>\n",
       "    <tr>\n",
       "      <th>1</th>\n",
       "      <td>T20001</td>\n",
       "      <td>1</td>\n",
       "      <td>Due to the typically complex nature of each ch...</td>\n",
       "      <td>17</td>\n",
       "    </tr>\n",
       "    <tr>\n",
       "      <th>2</th>\n",
       "      <td>T20001</td>\n",
       "      <td>2</td>\n",
       "      <td>By and large, machine learning tools are inten...</td>\n",
       "      <td>28</td>\n",
       "    </tr>\n",
       "    <tr>\n",
       "      <th>3</th>\n",
       "      <td>T20001</td>\n",
       "      <td>3</td>\n",
       "      <td>In contrast, we propose a new and very general...</td>\n",
       "      <td>33</td>\n",
       "    </tr>\n",
       "    <tr>\n",
       "      <th>4</th>\n",
       "      <td>T20001</td>\n",
       "      <td>4</td>\n",
       "      <td>A key component of our framework is the SPO lo...</td>\n",
       "      <td>34</td>\n",
       "    </tr>\n",
       "    <tr>\n",
       "      <th>5</th>\n",
       "      <td>T20001</td>\n",
       "      <td>5</td>\n",
       "      <td>Training a model with respect to the SPO loss ...</td>\n",
       "      <td>42</td>\n",
       "    </tr>\n",
       "    <tr>\n",
       "      <th>6</th>\n",
       "      <td>T20001</td>\n",
       "      <td>6</td>\n",
       "      <td>We also propose a stochastic gradient descent ...</td>\n",
       "      <td>35</td>\n",
       "    </tr>\n",
       "    <tr>\n",
       "      <th>7</th>\n",
       "      <td>T20001</td>\n",
       "      <td>7</td>\n",
       "      <td>Finally, we perform computational experiments ...</td>\n",
       "      <td>21</td>\n",
       "    </tr>\n",
       "    <tr>\n",
       "      <th>8</th>\n",
       "      <td>T20002</td>\n",
       "      <td>0</td>\n",
       "      <td>The spectrum of a first-order logic sentence i...</td>\n",
       "      <td>20</td>\n",
       "    </tr>\n",
       "    <tr>\n",
       "      <th>9</th>\n",
       "      <td>T20002</td>\n",
       "      <td>1</td>\n",
       "      <td>In this paper we study the hierarchy of first-...</td>\n",
       "      <td>16</td>\n",
       "    </tr>\n",
       "  </tbody>\n",
       "</table>\n",
       "</div>"
      ],
      "text/plain": [
       "       Id  position                                           sentence  \\\n",
       "0  T20001         0  Many real-world analytics problems involve two...   \n",
       "1  T20001         1  Due to the typically complex nature of each ch...   \n",
       "2  T20001         2  By and large, machine learning tools are inten...   \n",
       "3  T20001         3  In contrast, we propose a new and very general...   \n",
       "4  T20001         4  A key component of our framework is the SPO lo...   \n",
       "5  T20001         5  Training a model with respect to the SPO loss ...   \n",
       "6  T20001         6  We also propose a stochastic gradient descent ...   \n",
       "7  T20001         7  Finally, we perform computational experiments ...   \n",
       "8  T20002         0  The spectrum of a first-order logic sentence i...   \n",
       "9  T20002         1  In this paper we study the hierarchy of first-...   \n",
       "\n",
       "   sent_len  \n",
       "0        11  \n",
       "1        17  \n",
       "2        28  \n",
       "3        33  \n",
       "4        34  \n",
       "5        42  \n",
       "6        35  \n",
       "7        21  \n",
       "8        20  \n",
       "9        16  "
      ]
     },
     "execution_count": 24,
     "metadata": {},
     "output_type": "execute_result"
    }
   ],
   "source": [
    "df_words.head(10)"
   ]
  },
  {
   "cell_type": "code",
   "execution_count": 25,
   "metadata": {},
   "outputs": [],
   "source": [
    "df_words.to_pickle(\"./df/X_testing_private.pkl\") "
   ]
  },
  {
   "cell_type": "code",
   "execution_count": 26,
   "metadata": {},
   "outputs": [
    {
     "data": {
      "text/plain": [
       "131782"
      ]
     },
     "execution_count": 26,
     "metadata": {},
     "output_type": "execute_result"
    }
   ],
   "source": [
    "len(df_words['sentence'].values)"
   ]
  },
  {
   "cell_type": "markdown",
   "metadata": {},
   "source": [
    "----"
   ]
  },
  {
   "cell_type": "markdown",
   "metadata": {},
   "source": [
    "### Predict"
   ]
  },
  {
   "cell_type": "code",
   "execution_count": 27,
   "metadata": {},
   "outputs": [
    {
     "data": {
      "text/plain": [
       "(131782, 181)"
      ]
     },
     "execution_count": 27,
     "metadata": {},
     "output_type": "execute_result"
    }
   ],
   "source": [
    "# convert sentence to numeric sequence\n",
    "X_testing_seq = tokenizer.texts_to_sequences(df_words['sentence'].values)\n",
    "\n",
    "# make every sequence equal size with padding\n",
    "X_testing_seq = pad_sequences(X_testing_seq, maxlen=181) # max_len in sentence in training records\n",
    "\n",
    "X_testing_seq.shape"
   ]
  },
  {
   "cell_type": "code",
   "execution_count": 28,
   "metadata": {},
   "outputs": [],
   "source": [
    "X_testing_other = df_words[['position', 'sent_len']].values"
   ]
  },
  {
   "cell_type": "code",
   "execution_count": 29,
   "metadata": {},
   "outputs": [],
   "source": [
    "pred_result_testing = model.predict({'word_input': X_testing_seq, 'other_in': X_testing_other})"
   ]
  },
  {
   "cell_type": "code",
   "execution_count": 30,
   "metadata": {},
   "outputs": [
    {
     "data": {
      "text/plain": [
       "(131782, 6)"
      ]
     },
     "execution_count": 30,
     "metadata": {},
     "output_type": "execute_result"
    }
   ],
   "source": [
    "pred_result_testing[0].shape"
   ]
  },
  {
   "cell_type": "code",
   "execution_count": 31,
   "metadata": {},
   "outputs": [],
   "source": [
    "y_testing = get_labels(pred_result_testing[0])"
   ]
  },
  {
   "cell_type": "code",
   "execution_count": 32,
   "metadata": {},
   "outputs": [
    {
     "data": {
      "text/html": [
       "<div>\n",
       "<style scoped>\n",
       "    .dataframe tbody tr th:only-of-type {\n",
       "        vertical-align: middle;\n",
       "    }\n",
       "\n",
       "    .dataframe tbody tr th {\n",
       "        vertical-align: top;\n",
       "    }\n",
       "\n",
       "    .dataframe thead th {\n",
       "        text-align: right;\n",
       "    }\n",
       "</style>\n",
       "<table border=\"1\" class=\"dataframe\">\n",
       "  <thead>\n",
       "    <tr style=\"text-align: right;\">\n",
       "      <th></th>\n",
       "      <th>Id</th>\n",
       "      <th>position</th>\n",
       "      <th>sentence</th>\n",
       "      <th>sent_len</th>\n",
       "      <th>label</th>\n",
       "    </tr>\n",
       "  </thead>\n",
       "  <tbody>\n",
       "    <tr>\n",
       "      <th>0</th>\n",
       "      <td>T20001</td>\n",
       "      <td>0</td>\n",
       "      <td>Many real-world analytics problems involve two...</td>\n",
       "      <td>11</td>\n",
       "      <td>BACKGROUND</td>\n",
       "    </tr>\n",
       "    <tr>\n",
       "      <th>1</th>\n",
       "      <td>T20001</td>\n",
       "      <td>1</td>\n",
       "      <td>Due to the typically complex nature of each ch...</td>\n",
       "      <td>17</td>\n",
       "      <td>BACKGROUND</td>\n",
       "    </tr>\n",
       "    <tr>\n",
       "      <th>2</th>\n",
       "      <td>T20001</td>\n",
       "      <td>2</td>\n",
       "      <td>By and large, machine learning tools are inten...</td>\n",
       "      <td>28</td>\n",
       "      <td>BACKGROUND</td>\n",
       "    </tr>\n",
       "    <tr>\n",
       "      <th>3</th>\n",
       "      <td>T20001</td>\n",
       "      <td>3</td>\n",
       "      <td>In contrast, we propose a new and very general...</td>\n",
       "      <td>33</td>\n",
       "      <td>METHODS</td>\n",
       "    </tr>\n",
       "    <tr>\n",
       "      <th>4</th>\n",
       "      <td>T20001</td>\n",
       "      <td>4</td>\n",
       "      <td>A key component of our framework is the SPO lo...</td>\n",
       "      <td>34</td>\n",
       "      <td>METHODS</td>\n",
       "    </tr>\n",
       "    <tr>\n",
       "      <th>5</th>\n",
       "      <td>T20001</td>\n",
       "      <td>5</td>\n",
       "      <td>Training a model with respect to the SPO loss ...</td>\n",
       "      <td>42</td>\n",
       "      <td>RESULTS</td>\n",
       "    </tr>\n",
       "    <tr>\n",
       "      <th>6</th>\n",
       "      <td>T20001</td>\n",
       "      <td>6</td>\n",
       "      <td>We also propose a stochastic gradient descent ...</td>\n",
       "      <td>35</td>\n",
       "      <td>METHODS</td>\n",
       "    </tr>\n",
       "    <tr>\n",
       "      <th>7</th>\n",
       "      <td>T20001</td>\n",
       "      <td>7</td>\n",
       "      <td>Finally, we perform computational experiments ...</td>\n",
       "      <td>21</td>\n",
       "      <td>RESULTS</td>\n",
       "    </tr>\n",
       "    <tr>\n",
       "      <th>8</th>\n",
       "      <td>T20002</td>\n",
       "      <td>0</td>\n",
       "      <td>The spectrum of a first-order logic sentence i...</td>\n",
       "      <td>20</td>\n",
       "      <td>BACKGROUND</td>\n",
       "    </tr>\n",
       "    <tr>\n",
       "      <th>9</th>\n",
       "      <td>T20002</td>\n",
       "      <td>1</td>\n",
       "      <td>In this paper we study the hierarchy of first-...</td>\n",
       "      <td>16</td>\n",
       "      <td>OBJECTIVES</td>\n",
       "    </tr>\n",
       "  </tbody>\n",
       "</table>\n",
       "</div>"
      ],
      "text/plain": [
       "       Id  position                                           sentence  \\\n",
       "0  T20001         0  Many real-world analytics problems involve two...   \n",
       "1  T20001         1  Due to the typically complex nature of each ch...   \n",
       "2  T20001         2  By and large, machine learning tools are inten...   \n",
       "3  T20001         3  In contrast, we propose a new and very general...   \n",
       "4  T20001         4  A key component of our framework is the SPO lo...   \n",
       "5  T20001         5  Training a model with respect to the SPO loss ...   \n",
       "6  T20001         6  We also propose a stochastic gradient descent ...   \n",
       "7  T20001         7  Finally, we perform computational experiments ...   \n",
       "8  T20002         0  The spectrum of a first-order logic sentence i...   \n",
       "9  T20002         1  In this paper we study the hierarchy of first-...   \n",
       "\n",
       "   sent_len       label  \n",
       "0        11  BACKGROUND  \n",
       "1        17  BACKGROUND  \n",
       "2        28  BACKGROUND  \n",
       "3        33     METHODS  \n",
       "4        34     METHODS  \n",
       "5        42     RESULTS  \n",
       "6        35     METHODS  \n",
       "7        21     RESULTS  \n",
       "8        20  BACKGROUND  \n",
       "9        16  OBJECTIVES  "
      ]
     },
     "execution_count": 32,
     "metadata": {},
     "output_type": "execute_result"
    }
   ],
   "source": [
    "df_words['label'] = y_testing\n",
    "df_words.head(10)"
   ]
  },
  {
   "cell_type": "code",
   "execution_count": 33,
   "metadata": {},
   "outputs": [],
   "source": [
    "df_words.to_pickle(\"./df/X_testing_label_private.pkl\") "
   ]
  },
  {
   "cell_type": "markdown",
   "metadata": {},
   "source": [
    "### To submission format"
   ]
  },
  {
   "cell_type": "code",
   "execution_count": 34,
   "metadata": {},
   "outputs": [
    {
     "name": "stdout",
     "output_type": "stream",
     "text": [
      "T20001_S001 BACKGROUND\n",
      "T20001_S002 BACKGROUND\n",
      "T20001_S003 BACKGROUND\n",
      "T20001_S004 METHODS\n",
      "T20001_S005 METHODS\n",
      "T20001_S006 RESULTS\n",
      "T20001_S007 METHODS\n",
      "T20001_S008 RESULTS\n",
      "T20002_S001 BACKGROUND\n",
      "T20002_S002 OBJECTIVES\n"
     ]
    }
   ],
   "source": [
    "for index, row in df_words.head(10).iterrows():\n",
    "    if row['position']+1 > 9:\n",
    "        print(row['Id']+'_S0'+str(row['position']+1), row['label'])\n",
    "    else:\n",
    "        print(row['Id']+'_S00'+str(row['position']+1), row['label'])"
   ]
  },
  {
   "cell_type": "code",
   "execution_count": 35,
   "metadata": {},
   "outputs": [],
   "source": [
    "label_to_submission = {\n",
    "    'BACKGROUND' :[1, 0, 0, 0, 0, 0],\n",
    "    'OBJECTIVES' :[0, 1, 0, 0, 0, 0],\n",
    "    'METHODS'    :[0, 0, 1, 0, 0, 0],\n",
    "    'RESULTS'    :[0, 0, 0, 1, 0, 0],\n",
    "    'CONCLUSIONS':[0, 0, 0, 0, 1, 0],\n",
    "    'OTHERS'     :[0, 0, 0, 0, 0, 1]\n",
    "}"
   ]
  },
  {
   "cell_type": "code",
   "execution_count": 36,
   "metadata": {},
   "outputs": [
    {
     "name": "stdout",
     "output_type": "stream",
     "text": [
      "T20001_S001 [1, 0, 0, 0, 0, 0]\n",
      "T20001_S002 [1, 0, 0, 0, 0, 0]\n",
      "T20001_S003 [1, 0, 0, 0, 0, 0]\n",
      "T20001_S004 [0, 0, 1, 0, 0, 0]\n",
      "T20001_S005 [0, 0, 1, 0, 0, 0]\n",
      "T20001_S006 [0, 0, 0, 1, 0, 0]\n",
      "T20001_S007 [0, 0, 1, 0, 0, 0]\n",
      "T20001_S008 [0, 0, 0, 1, 0, 0]\n",
      "T20002_S001 [1, 0, 0, 0, 0, 0]\n",
      "T20002_S002 [0, 1, 0, 0, 0, 0]\n"
     ]
    }
   ],
   "source": [
    "for index, row in df_words.head(10).iterrows():\n",
    "    if row['position']+1 > 9:\n",
    "        print(row['Id']+'_S0'+str(row['position']+1), label_to_submission[row['label']])\n",
    "    else:\n",
    "        print(row['Id']+'_S00'+str(row['position']+1), label_to_submission[row['label']])"
   ]
  },
  {
   "cell_type": "code",
   "execution_count": 37,
   "metadata": {},
   "outputs": [],
   "source": [
    "import csv\n",
    "\n",
    "with open('submission_private.csv', 'w', newline='') as csvfile:\n",
    "\n",
    "    writer = csv.writer(csvfile)\n",
    "    writer.writerow(['order_id', 'BACKGROUND', 'OBJECTIVES', 'METHODS', 'RESULTS', 'CONCLUSIONS', 'OTHERS'])\n",
    "\n",
    "    for index, row in df_words.iterrows():\n",
    "        lbl = label_to_submission[row['label']]\n",
    "        if row['position']+1 > 9:\n",
    "            writer.writerow([row['Id']+'_S0'+str(row['position']+1), lbl[0], lbl[1], lbl[2], lbl[3], lbl[4], lbl[5]])\n",
    "        else:\n",
    "            writer.writerow([row['Id']+'_S00'+str(row['position']+1), lbl[0], lbl[1], lbl[2], lbl[3], lbl[4], lbl[5]])\n",
    "        \n"
   ]
  },
  {
   "cell_type": "code",
   "execution_count": null,
   "metadata": {},
   "outputs": [],
   "source": []
  }
 ],
 "metadata": {
  "kernelspec": {
   "display_name": "Python 3",
   "language": "python",
   "name": "python3"
  },
  "language_info": {
   "codemirror_mode": {
    "name": "ipython",
    "version": 3
   },
   "file_extension": ".py",
   "mimetype": "text/x-python",
   "name": "python",
   "nbconvert_exporter": "python",
   "pygments_lexer": "ipython3",
   "version": "3.7.3"
  },
  "toc": {
   "base_numbering": 1,
   "nav_menu": {},
   "number_sections": true,
   "sideBar": true,
   "skip_h1_title": true,
   "title_cell": "Table of Contents",
   "title_sidebar": "Contents",
   "toc_cell": false,
   "toc_position": {},
   "toc_section_display": true,
   "toc_window_display": true
  }
 },
 "nbformat": 4,
 "nbformat_minor": 2
}
