{
 "cells": [
  {
   "cell_type": "markdown",
   "metadata": {},
   "source": [
    "# RNN"
   ]
  },
  {
   "cell_type": "markdown",
   "metadata": {},
   "source": [
    "## Data\n",
    "\n",
    "Load back the dataframe that's been pre-processed at last stage."
   ]
  },
  {
   "cell_type": "code",
   "execution_count": 1,
   "metadata": {},
   "outputs": [],
   "source": [
    "import pandas as pd\n",
    "import nltk\n",
    "\n",
    "def custom_tokenize(text):\n",
    "    text = ''.join([ch for ch in text if not ch.isdigit() and \n",
    "                    ch not in ['@', '#', ':', '.', ',', ';', '$', '%', '&', '\\'',\n",
    "                               '-', '(', ')', '-', '[', ']', '“', '”', '\\'\\'', '+',\n",
    "                               '/', '``', '|', '—']])\n",
    "    tokens = nltk.word_tokenize(text)\n",
    "    return tokens\n",
    "\n",
    "## load a pickle file back\n",
    "df_words = pd.read_pickle(\"./df/df_words.pkl\")"
   ]
  },
  {
   "cell_type": "code",
   "execution_count": 2,
   "metadata": {},
   "outputs": [
    {
     "data": {
      "text/html": [
       "<div>\n",
       "<style scoped>\n",
       "    .dataframe tbody tr th:only-of-type {\n",
       "        vertical-align: middle;\n",
       "    }\n",
       "\n",
       "    .dataframe tbody tr th {\n",
       "        vertical-align: top;\n",
       "    }\n",
       "\n",
       "    .dataframe thead th {\n",
       "        text-align: right;\n",
       "    }\n",
       "</style>\n",
       "<table border=\"1\" class=\"dataframe\">\n",
       "  <thead>\n",
       "    <tr style=\"text-align: right;\">\n",
       "      <th></th>\n",
       "      <th>label</th>\n",
       "      <th>position</th>\n",
       "      <th>sentence</th>\n",
       "      <th>categories</th>\n",
       "      <th>sent_len</th>\n",
       "    </tr>\n",
       "  </thead>\n",
       "  <tbody>\n",
       "    <tr>\n",
       "      <th>0</th>\n",
       "      <td>BACKGROUND</td>\n",
       "      <td>0</td>\n",
       "      <td>Rapid popularity of Internet of Things (IoT) a...</td>\n",
       "      <td>cs.CR/cs.AI/q-bio.NC</td>\n",
       "      <td>29</td>\n",
       "    </tr>\n",
       "    <tr>\n",
       "      <th>5000</th>\n",
       "      <td>BACKGROUND</td>\n",
       "      <td>4</td>\n",
       "      <td>Previous methods typically match the whole sou...</td>\n",
       "      <td>cs.CV</td>\n",
       "      <td>32</td>\n",
       "    </tr>\n",
       "    <tr>\n",
       "      <th>10000</th>\n",
       "      <td>BACKGROUND</td>\n",
       "      <td>5</td>\n",
       "      <td>Thus, no positioning service can be obtained i...</td>\n",
       "      <td>cs.NI</td>\n",
       "      <td>10</td>\n",
       "    </tr>\n",
       "    <tr>\n",
       "      <th>15000</th>\n",
       "      <td>OBJECTIVES</td>\n",
       "      <td>0</td>\n",
       "      <td>The ultimate goal of any software developer se...</td>\n",
       "      <td>cs.SE</td>\n",
       "      <td>18</td>\n",
       "    </tr>\n",
       "    <tr>\n",
       "      <th>20000</th>\n",
       "      <td>OBJECTIVES</td>\n",
       "      <td>1</td>\n",
       "      <td>The proposed framework is aiming to address tw...</td>\n",
       "      <td>cs.CV</td>\n",
       "      <td>15</td>\n",
       "    </tr>\n",
       "    <tr>\n",
       "      <th>25000</th>\n",
       "      <td>METHODS</td>\n",
       "      <td>4</td>\n",
       "      <td>Logical and behavioral equivalence of game mod...</td>\n",
       "      <td>cs.LO</td>\n",
       "      <td>9</td>\n",
       "    </tr>\n",
       "    <tr>\n",
       "      <th>30000</th>\n",
       "      <td>METHODS</td>\n",
       "      <td>6</td>\n",
       "      <td>Components of the NiftyNet pipeline including ...</td>\n",
       "      <td>cs.CV/cs.LG/cs.NE</td>\n",
       "      <td>33</td>\n",
       "    </tr>\n",
       "    <tr>\n",
       "      <th>35000</th>\n",
       "      <td>METHODS</td>\n",
       "      <td>4</td>\n",
       "      <td>The deferred write approach is followed to imp...</td>\n",
       "      <td>cs.DC</td>\n",
       "      <td>10</td>\n",
       "    </tr>\n",
       "    <tr>\n",
       "      <th>40000</th>\n",
       "      <td>RESULTS</td>\n",
       "      <td>0</td>\n",
       "      <td>In this paper, we provide upper and lower boun...</td>\n",
       "      <td>math.PR/cs.IT/math.IT/math.OC</td>\n",
       "      <td>22</td>\n",
       "    </tr>\n",
       "    <tr>\n",
       "      <th>45000</th>\n",
       "      <td>RESULTS</td>\n",
       "      <td>3</td>\n",
       "      <td>We show that the information distance is a uni...</td>\n",
       "      <td>cs.IT/math.IT/math.PR/physics.data-an</td>\n",
       "      <td>12</td>\n",
       "    </tr>\n",
       "    <tr>\n",
       "      <th>50000</th>\n",
       "      <td>CONCLUSIONS</td>\n",
       "      <td>5</td>\n",
       "      <td>These methods allow arbitrary approximations o...</td>\n",
       "      <td>math.OC/cs.NA</td>\n",
       "      <td>17</td>\n",
       "    </tr>\n",
       "  </tbody>\n",
       "</table>\n",
       "</div>"
      ],
      "text/plain": [
       "             label  position  \\\n",
       "0       BACKGROUND         0   \n",
       "5000    BACKGROUND         4   \n",
       "10000   BACKGROUND         5   \n",
       "15000   OBJECTIVES         0   \n",
       "20000   OBJECTIVES         1   \n",
       "25000      METHODS         4   \n",
       "30000      METHODS         6   \n",
       "35000      METHODS         4   \n",
       "40000      RESULTS         0   \n",
       "45000      RESULTS         3   \n",
       "50000  CONCLUSIONS         5   \n",
       "\n",
       "                                                sentence  \\\n",
       "0      Rapid popularity of Internet of Things (IoT) a...   \n",
       "5000   Previous methods typically match the whole sou...   \n",
       "10000  Thus, no positioning service can be obtained i...   \n",
       "15000  The ultimate goal of any software developer se...   \n",
       "20000  The proposed framework is aiming to address tw...   \n",
       "25000  Logical and behavioral equivalence of game mod...   \n",
       "30000  Components of the NiftyNet pipeline including ...   \n",
       "35000  The deferred write approach is followed to imp...   \n",
       "40000  In this paper, we provide upper and lower boun...   \n",
       "45000  We show that the information distance is a uni...   \n",
       "50000  These methods allow arbitrary approximations o...   \n",
       "\n",
       "                                  categories  sent_len  \n",
       "0                       cs.CR/cs.AI/q-bio.NC        29  \n",
       "5000                                   cs.CV        32  \n",
       "10000                                  cs.NI        10  \n",
       "15000                                  cs.SE        18  \n",
       "20000                                  cs.CV        15  \n",
       "25000                                  cs.LO         9  \n",
       "30000                      cs.CV/cs.LG/cs.NE        33  \n",
       "35000                                  cs.DC        10  \n",
       "40000          math.PR/cs.IT/math.IT/math.OC        22  \n",
       "45000  cs.IT/math.IT/math.PR/physics.data-an        12  \n",
       "50000                          math.OC/cs.NA        17  "
      ]
     },
     "execution_count": 2,
     "metadata": {},
     "output_type": "execute_result"
    }
   ],
   "source": [
    "df_words[::5000]"
   ]
  },
  {
   "cell_type": "markdown",
   "metadata": {},
   "source": [
    "### Split training and validating set : 80-20"
   ]
  },
  {
   "cell_type": "code",
   "execution_count": 3,
   "metadata": {},
   "outputs": [],
   "source": [
    "X = df_words.drop(['label'], axis=1)\n",
    "y = df_words['label']"
   ]
  },
  {
   "cell_type": "code",
   "execution_count": 4,
   "metadata": {},
   "outputs": [],
   "source": [
    "from sklearn.model_selection import train_test_split\n",
    "\n",
    "#80% train 20% test\n",
    "X_train, X_test, y_train, y_test = train_test_split(X, y, test_size=0.2, random_state=42)"
   ]
  },
  {
   "cell_type": "code",
   "execution_count": 5,
   "metadata": {},
   "outputs": [
    {
     "data": {
      "text/html": [
       "<div>\n",
       "<style scoped>\n",
       "    .dataframe tbody tr th:only-of-type {\n",
       "        vertical-align: middle;\n",
       "    }\n",
       "\n",
       "    .dataframe tbody tr th {\n",
       "        vertical-align: top;\n",
       "    }\n",
       "\n",
       "    .dataframe thead th {\n",
       "        text-align: right;\n",
       "    }\n",
       "</style>\n",
       "<table border=\"1\" class=\"dataframe\">\n",
       "  <thead>\n",
       "    <tr style=\"text-align: right;\">\n",
       "      <th></th>\n",
       "      <th>position</th>\n",
       "      <th>sentence</th>\n",
       "      <th>categories</th>\n",
       "      <th>sent_len</th>\n",
       "    </tr>\n",
       "  </thead>\n",
       "  <tbody>\n",
       "    <tr>\n",
       "      <th>15719</th>\n",
       "      <td>3</td>\n",
       "      <td>To properly evolve ANNs with more than one hid...</td>\n",
       "      <td>cs.NE/cs.AI</td>\n",
       "      <td>27</td>\n",
       "    </tr>\n",
       "    <tr>\n",
       "      <th>28652</th>\n",
       "      <td>2</td>\n",
       "      <td>Although the two senders transmit their own me...</td>\n",
       "      <td>cs.IT/math.IT</td>\n",
       "      <td>32</td>\n",
       "    </tr>\n",
       "    <tr>\n",
       "      <th>49339</th>\n",
       "      <td>4</td>\n",
       "      <td>Simulations on the robotic system verified our...</td>\n",
       "      <td>cs.RO</td>\n",
       "      <td>28</td>\n",
       "    </tr>\n",
       "    <tr>\n",
       "      <th>4730</th>\n",
       "      <td>1</td>\n",
       "      <td>In this framework, instead of producing a fina...</td>\n",
       "      <td>cs.DS</td>\n",
       "      <td>39</td>\n",
       "    </tr>\n",
       "    <tr>\n",
       "      <th>8406</th>\n",
       "      <td>1</td>\n",
       "      <td>It has been observed that the set of all sound...</td>\n",
       "      <td>cs.LO</td>\n",
       "      <td>34</td>\n",
       "    </tr>\n",
       "  </tbody>\n",
       "</table>\n",
       "</div>"
      ],
      "text/plain": [
       "       position                                           sentence  \\\n",
       "15719         3  To properly evolve ANNs with more than one hid...   \n",
       "28652         2  Although the two senders transmit their own me...   \n",
       "49339         4  Simulations on the robotic system verified our...   \n",
       "4730          1  In this framework, instead of producing a fina...   \n",
       "8406          1  It has been observed that the set of all sound...   \n",
       "\n",
       "          categories  sent_len  \n",
       "15719    cs.NE/cs.AI        27  \n",
       "28652  cs.IT/math.IT        32  \n",
       "49339          cs.RO        28  \n",
       "4730           cs.DS        39  \n",
       "8406           cs.LO        34  "
      ]
     },
     "execution_count": 5,
     "metadata": {},
     "output_type": "execute_result"
    }
   ],
   "source": [
    "X_train.head()"
   ]
  },
  {
   "cell_type": "code",
   "execution_count": 7,
   "metadata": {},
   "outputs": [
    {
     "data": {
      "text/plain": [
       "15719     OBJECTIVES\n",
       "28652        METHODS\n",
       "49339    CONCLUSIONS\n",
       "4730      BACKGROUND\n",
       "8406      BACKGROUND\n",
       "Name: label, dtype: object"
      ]
     },
     "execution_count": 7,
     "metadata": {},
     "output_type": "execute_result"
    }
   ],
   "source": [
    "y_train.head()"
   ]
  },
  {
   "cell_type": "code",
   "execution_count": 8,
   "metadata": {},
   "outputs": [],
   "source": [
    "X_train.to_pickle(\"./df/X_train.pkl\") # training record\n",
    "X_test.to_pickle(\"./df/X_test.pkl\") \n",
    "y_train.to_pickle(\"./df/y_train.pkl\") # training label\n",
    "y_test.to_pickle(\"./df/y_test.pkl\")"
   ]
  },
  {
   "cell_type": "code",
   "execution_count": 1,
   "metadata": {},
   "outputs": [],
   "source": [
    "import pandas as pd\n",
    "X_train = pd.read_pickle(\"./df/X_train.pkl\")\n",
    "X_test  = pd.read_pickle(\"./df/X_test.pkl\") \n",
    "y_train = pd.read_pickle(\"./df/y_train.pkl\")\n",
    "y_test  = pd.read_pickle(\"./df/y_test.pkl\")"
   ]
  },
  {
   "cell_type": "markdown",
   "metadata": {},
   "source": [
    "## Train with word features\n",
    "\n",
    "### convert text to sequence "
   ]
  },
  {
   "cell_type": "code",
   "execution_count": 2,
   "metadata": {},
   "outputs": [
    {
     "name": "stderr",
     "output_type": "stream",
     "text": [
      "Using TensorFlow backend.\n"
     ]
    },
    {
     "name": "stdout",
     "output_type": "stream",
     "text": [
      "CPU times: user 2.07 s, sys: 359 ms, total: 2.43 s\n",
      "Wall time: 3.21 s\n"
     ]
    },
    {
     "data": {
      "text/plain": [
       "25999"
      ]
     },
     "execution_count": 2,
     "metadata": {},
     "output_type": "execute_result"
    }
   ],
   "source": [
    "%%time\n",
    "from keras.preprocessing.text import Tokenizer\n",
    "\n",
    "# keras tokenizer\n",
    "tokenizer = Tokenizer(num_words=20000,\n",
    "                      filters='!\"#$%&()*+,-./:;<=>?@[\\]^_`{|}~',\n",
    "                      lower=True)\n",
    "\n",
    "tokenizer.fit_on_texts(X_train['sentence'].values)\n",
    "\n",
    "# unique word/token as a dictionary {'word': index}\n",
    "word_index = tokenizer.word_index\n",
    "\n",
    "len(word_index)"
   ]
  },
  {
   "cell_type": "code",
   "execution_count": 3,
   "metadata": {},
   "outputs": [
    {
     "data": {
      "text/plain": [
       "{'the': 1,\n",
       " 'of': 2,\n",
       " 'and': 3,\n",
       " 'a': 4,\n",
       " 'to': 5,\n",
       " 'in': 6,\n",
       " 'we': 7,\n",
       " 'is': 8,\n",
       " 'for': 9,\n",
       " 'that': 10,\n",
       " 'on': 11,\n",
       " 'this': 12,\n",
       " 'with': 13,\n",
       " 'are': 14,\n",
       " 'as': 15,\n",
       " 'by': 16,\n",
       " 'an': 17,\n",
       " 'our': 18,\n",
       " 'data': 19,\n",
       " 'can': 20,\n",
       " 'from': 21,\n",
       " 'be': 22,\n",
       " 'which': 23,\n",
       " 'based': 24,\n",
       " 'paper': 25,\n",
       " 'model': 26,\n",
       " 'network': 27,\n",
       " 'it': 28,\n",
       " 'using': 29,\n",
       " 'learning': 30,\n",
       " 'results': 31,\n",
       " 'show': 32,\n",
       " 'proposed': 33,\n",
       " 'problem': 34,\n",
       " 'time': 35,\n",
       " 'such': 36,\n",
       " 'or': 37,\n",
       " 'method': 38,\n",
       " 'performance': 39,\n",
       " 'algorithm': 40,\n",
       " 'approach': 41,\n",
       " 'these': 42,\n",
       " 'have': 43,\n",
       " 'also': 44,\n",
       " 'networks': 45,\n",
       " 'system': 46,\n",
       " 'information': 47,\n",
       " 'two': 48,\n",
       " 'at': 49,\n",
       " 'propose': 50,\n",
       " 'has': 51,\n",
       " 'methods': 52,\n",
       " 'not': 53,\n",
       " 'models': 54,\n",
       " 'different': 55,\n",
       " 'used': 56,\n",
       " 'new': 57,\n",
       " 'state': 58,\n",
       " 'their': 59,\n",
       " 'more': 60,\n",
       " 'between': 61,\n",
       " 'its': 62,\n",
       " 'use': 63,\n",
       " 'one': 64,\n",
       " 'systems': 65,\n",
       " 'image': 66,\n",
       " 'algorithms': 67,\n",
       " 'analysis': 68,\n",
       " 'both': 69,\n",
       " 'neural': 70,\n",
       " 'present': 71,\n",
       " 'been': 72,\n",
       " 'number': 73,\n",
       " 'over': 74,\n",
       " 'work': 75,\n",
       " 'each': 76,\n",
       " 'framework': 77,\n",
       " 'large': 78,\n",
       " 'well': 79,\n",
       " 'set': 80,\n",
       " 'deep': 81,\n",
       " 'high': 82,\n",
       " 'other': 83,\n",
       " 'than': 84,\n",
       " 'training': 85,\n",
       " 'real': 86,\n",
       " 'however': 87,\n",
       " 'study': 88,\n",
       " 'when': 89,\n",
       " 'into': 90,\n",
       " 'but': 91,\n",
       " 'only': 92,\n",
       " 'while': 93,\n",
       " 'first': 94,\n",
       " 'how': 95,\n",
       " 'all': 96,\n",
       " 'art': 97,\n",
       " 'novel': 98,\n",
       " 'task': 99,\n",
       " 'where': 100,\n",
       " 'features': 101,\n",
       " 'most': 102,\n",
       " 'provide': 103,\n",
       " 'non': 104,\n",
       " 'many': 105,\n",
       " 'demonstrate': 106,\n",
       " 'applications': 107,\n",
       " 'images': 108,\n",
       " 'order': 109,\n",
       " 'multi': 110,\n",
       " 'experiments': 111,\n",
       " 'datasets': 112,\n",
       " 'e': 113,\n",
       " 'problems': 114,\n",
       " 'dataset': 115,\n",
       " 'several': 116,\n",
       " 'then': 117,\n",
       " 'existing': 118,\n",
       " 'some': 119,\n",
       " 'design': 120,\n",
       " 'classification': 121,\n",
       " 'through': 122,\n",
       " 'detection': 123,\n",
       " 'techniques': 124,\n",
       " 'space': 125,\n",
       " 'accuracy': 126,\n",
       " 'level': 127,\n",
       " 'graph': 128,\n",
       " 'research': 129,\n",
       " 'human': 130,\n",
       " 'process': 131,\n",
       " 'they': 132,\n",
       " 'multiple': 133,\n",
       " 'function': 134,\n",
       " 'approaches': 135,\n",
       " 'tasks': 136,\n",
       " 'knowledge': 137,\n",
       " 'control': 138,\n",
       " 'machine': 139,\n",
       " 'linear': 140,\n",
       " 'given': 141,\n",
       " 'users': 142,\n",
       " 'user': 143,\n",
       " 'i': 144,\n",
       " 'optimal': 145,\n",
       " 'efficient': 146,\n",
       " 'single': 147,\n",
       " 'structure': 148,\n",
       " 'low': 149,\n",
       " 'language': 150,\n",
       " 'case': 151,\n",
       " 'better': 152,\n",
       " 'scale': 153,\n",
       " 'recognition': 154,\n",
       " 'end': 155,\n",
       " 'various': 156,\n",
       " 'power': 157,\n",
       " 'compared': 158,\n",
       " 'important': 159,\n",
       " 'input': 160,\n",
       " 'quality': 161,\n",
       " 'optimization': 162,\n",
       " 'any': 163,\n",
       " 'domain': 164,\n",
       " 'under': 165,\n",
       " 'there': 166,\n",
       " 'world': 167,\n",
       " 'may': 168,\n",
       " 'three': 169,\n",
       " 'energy': 170,\n",
       " 'introduce': 171,\n",
       " '1': 172,\n",
       " 'social': 173,\n",
       " 'simple': 174,\n",
       " 'without': 175,\n",
       " 'them': 176,\n",
       " 'solution': 177,\n",
       " 'feature': 178,\n",
       " 'representation': 179,\n",
       " 'rate': 180,\n",
       " 'complexity': 181,\n",
       " 'experimental': 182,\n",
       " 'general': 183,\n",
       " 'properties': 184,\n",
       " 'very': 185,\n",
       " 'available': 186,\n",
       " 'software': 187,\n",
       " 'error': 188,\n",
       " 'recent': 189,\n",
       " 'computational': 190,\n",
       " 'local': 191,\n",
       " 'further': 192,\n",
       " 'about': 193,\n",
       " 'cost': 194,\n",
       " 'due': 195,\n",
       " 'processing': 196,\n",
       " 'code': 197,\n",
       " 'object': 198,\n",
       " 'complex': 199,\n",
       " 'class': 200,\n",
       " 'communication': 201,\n",
       " 'known': 202,\n",
       " 'same': 203,\n",
       " 'was': 204,\n",
       " 'application': 205,\n",
       " 'functions': 206,\n",
       " 'source': 207,\n",
       " '2': 208,\n",
       " 'improve': 209,\n",
       " 'terms': 210,\n",
       " 'find': 211,\n",
       " 'context': 212,\n",
       " 'particular': 213,\n",
       " 'technique': 214,\n",
       " 'provides': 215,\n",
       " 'semantic': 216,\n",
       " 'will': 217,\n",
       " 'architecture': 218,\n",
       " 'evaluation': 219,\n",
       " 'channel': 220,\n",
       " 'convolutional': 221,\n",
       " 'prediction': 222,\n",
       " 'standard': 223,\n",
       " 'dynamic': 224,\n",
       " 'way': 225,\n",
       " 'distribution': 226,\n",
       " 'random': 227,\n",
       " 'trained': 228,\n",
       " 'memory': 229,\n",
       " 'estimation': 230,\n",
       " 'size': 231,\n",
       " 'search': 232,\n",
       " 'achieve': 233,\n",
       " 'up': 234,\n",
       " 'specific': 235,\n",
       " 'so': 236,\n",
       " 'key': 237,\n",
       " 'learn': 238,\n",
       " 'allows': 239,\n",
       " 'parameters': 240,\n",
       " 'even': 241,\n",
       " 'current': 242,\n",
       " 'segmentation': 243,\n",
       " 'called': 244,\n",
       " 'signal': 245,\n",
       " 'possible': 246,\n",
       " 'among': 247,\n",
       " 'finally': 248,\n",
       " 'including': 249,\n",
       " 'test': 250,\n",
       " 'thus': 251,\n",
       " 'previous': 252,\n",
       " 'best': 253,\n",
       " 'distributed': 254,\n",
       " 'result': 255,\n",
       " 'able': 256,\n",
       " 'video': 257,\n",
       " 'small': 258,\n",
       " 'if': 259,\n",
       " 'g': 260,\n",
       " 'point': 261,\n",
       " 'temporal': 262,\n",
       " 'applied': 263,\n",
       " '3d': 264,\n",
       " 'evaluate': 265,\n",
       " 'significantly': 266,\n",
       " 'consider': 267,\n",
       " 'no': 268,\n",
       " 'often': 269,\n",
       " 'scheme': 270,\n",
       " 'visual': 271,\n",
       " 'noise': 272,\n",
       " 'online': 273,\n",
       " 'word': 274,\n",
       " 'like': 275,\n",
       " 'shown': 276,\n",
       " 'computing': 277,\n",
       " 'obtained': 278,\n",
       " 'within': 279,\n",
       " 'theory': 280,\n",
       " 'significant': 281,\n",
       " 'output': 282,\n",
       " 'text': 283,\n",
       " 'challenging': 284,\n",
       " 'were': 285,\n",
       " 'conditions': 286,\n",
       " 'target': 287,\n",
       " 'efficiency': 288,\n",
       " 'simulation': 289,\n",
       " 'natural': 290,\n",
       " 'effective': 291,\n",
       " 'outperforms': 292,\n",
       " 'sequence': 293,\n",
       " 'representations': 294,\n",
       " 'implementation': 295,\n",
       " 'presented': 296,\n",
       " 'graphs': 297,\n",
       " 'development': 298,\n",
       " 'dimensional': 299,\n",
       " 'developed': 300,\n",
       " 'form': 301,\n",
       " 'effectiveness': 302,\n",
       " 'related': 303,\n",
       " 'out': 304,\n",
       " 'matrix': 305,\n",
       " 'develop': 306,\n",
       " 'behavior': 307,\n",
       " 'presents': 308,\n",
       " 'robust': 309,\n",
       " 'objects': 310,\n",
       " 'global': 311,\n",
       " 'support': 312,\n",
       " 'constraints': 313,\n",
       " 'loss': 314,\n",
       " 'address': 315,\n",
       " 'second': 316,\n",
       " 'main': 317,\n",
       " 'perform': 318,\n",
       " 'during': 319,\n",
       " 'make': 320,\n",
       " 'cnn': 321,\n",
       " 'solutions': 322,\n",
       " 'common': 323,\n",
       " 'computation': 324,\n",
       " 'across': 325,\n",
       " 'studies': 326,\n",
       " 'environment': 327,\n",
       " 'field': 328,\n",
       " 'probability': 329,\n",
       " 'dynamics': 330,\n",
       " 'nodes': 331,\n",
       " 'need': 332,\n",
       " 'open': 333,\n",
       " 'computer': 334,\n",
       " 'long': 335,\n",
       " 'sets': 336,\n",
       " 'modeling': 337,\n",
       " '3': 338,\n",
       " 'being': 339,\n",
       " 'generated': 340,\n",
       " 'access': 341,\n",
       " 'via': 342,\n",
       " 'higher': 343,\n",
       " 'patterns': 344,\n",
       " 'do': 345,\n",
       " 'decision': 346,\n",
       " 'furthermore': 347,\n",
       " 'content': 348,\n",
       " 'recently': 349,\n",
       " 'vector': 350,\n",
       " 'limited': 351,\n",
       " 'identify': 352,\n",
       " 'here': 353,\n",
       " 'lower': 354,\n",
       " 'clustering': 355,\n",
       " 'spatial': 356,\n",
       " 'cases': 357,\n",
       " 'type': 358,\n",
       " 'security': 359,\n",
       " 'similar': 360,\n",
       " 'theoretical': 361,\n",
       " 'attention': 362,\n",
       " 'objective': 363,\n",
       " 'obtain': 364,\n",
       " 'analyze': 365,\n",
       " 'potential': 366,\n",
       " 'much': 367,\n",
       " 'literature': 368,\n",
       " 'types': 369,\n",
       " 'those': 370,\n",
       " 'future': 371,\n",
       " 'strategy': 372,\n",
       " 'prove': 373,\n",
       " 'since': 374,\n",
       " 'considered': 375,\n",
       " 'uses': 376,\n",
       " 'numerical': 377,\n",
       " 'does': 378,\n",
       " 'generation': 379,\n",
       " 'achieves': 380,\n",
       " 'traditional': 381,\n",
       " 'challenges': 382,\n",
       " 'tools': 383,\n",
       " 'us': 384,\n",
       " 'designed': 385,\n",
       " 'benchmark': 386,\n",
       " 'selection': 387,\n",
       " 'programming': 388,\n",
       " 'generate': 389,\n",
       " 'mobile': 390,\n",
       " 'impact': 391,\n",
       " 'finite': 392,\n",
       " 'sparse': 393,\n",
       " 'inference': 394,\n",
       " 'therefore': 395,\n",
       " 'understanding': 396,\n",
       " 'frequency': 397,\n",
       " 'addition': 398,\n",
       " 'value': 399,\n",
       " 'range': 400,\n",
       " 'examples': 401,\n",
       " 'layer': 402,\n",
       " 'shows': 403,\n",
       " 'measures': 404,\n",
       " 'sampling': 405,\n",
       " 'devices': 406,\n",
       " 'accurate': 407,\n",
       " 'wireless': 408,\n",
       " 'average': 409,\n",
       " 'service': 410,\n",
       " 'individual': 411,\n",
       " 'traffic': 412,\n",
       " 'popular': 413,\n",
       " 'solve': 414,\n",
       " 'investigate': 415,\n",
       " 'similarity': 416,\n",
       " 'robot': 417,\n",
       " 'view': 418,\n",
       " 'describe': 419,\n",
       " 'original': 420,\n",
       " 'strategies': 421,\n",
       " 'web': 422,\n",
       " 'learned': 423,\n",
       " 'samples': 424,\n",
       " 'policy': 425,\n",
       " 'part': 426,\n",
       " 'fast': 427,\n",
       " 'example': 428,\n",
       " 'requires': 429,\n",
       " 'because': 430,\n",
       " 'less': 431,\n",
       " 'distance': 432,\n",
       " 'flow': 433,\n",
       " 'specifically': 434,\n",
       " 'supervised': 435,\n",
       " 'practical': 436,\n",
       " 'agent': 437,\n",
       " 'against': 438,\n",
       " 'highly': 439,\n",
       " 'extensive': 440,\n",
       " 'good': 441,\n",
       " 'measure': 442,\n",
       " 'physical': 443,\n",
       " 'statistical': 444,\n",
       " 'cloud': 445,\n",
       " 'capacity': 446,\n",
       " 'still': 447,\n",
       " 'defined': 448,\n",
       " 'years': 449,\n",
       " 'bound': 450,\n",
       " 'parallel': 451,\n",
       " 'prior': 452,\n",
       " 'free': 453,\n",
       " 'speech': 454,\n",
       " 'hand': 455,\n",
       " 'term': 456,\n",
       " 'self': 457,\n",
       " 'gradient': 458,\n",
       " 'moreover': 459,\n",
       " 'game': 460,\n",
       " 'found': 461,\n",
       " 'points': 462,\n",
       " 'challenge': 463,\n",
       " '0': 464,\n",
       " 'classes': 465,\n",
       " 'compare': 466,\n",
       " 'reduce': 467,\n",
       " 'continuous': 468,\n",
       " 'quantum': 469,\n",
       " 'discrete': 470,\n",
       " 'useful': 471,\n",
       " 'generative': 472,\n",
       " 'words': 473,\n",
       " 'resources': 474,\n",
       " 'translation': 475,\n",
       " 'scenarios': 476,\n",
       " 'mechanism': 477,\n",
       " 'group': 478,\n",
       " 'give': 479,\n",
       " 'achieved': 480,\n",
       " 'recurrent': 481,\n",
       " 'could': 482,\n",
       " 'adversarial': 483,\n",
       " 'face': 484,\n",
       " 'tool': 485,\n",
       " 'k': 486,\n",
       " 'motion': 487,\n",
       " 'focus': 488,\n",
       " 'values': 489,\n",
       " 'few': 490,\n",
       " 'structures': 491,\n",
       " 'concept': 492,\n",
       " 'simulations': 493,\n",
       " 'step': 494,\n",
       " 'making': 495,\n",
       " 'n': 496,\n",
       " 'evaluated': 497,\n",
       " 'node': 498,\n",
       " 'estimate': 499,\n",
       " 'short': 500,\n",
       " 'architectures': 501,\n",
       " 'effect': 502,\n",
       " 'resolution': 503,\n",
       " 'query': 504,\n",
       " 'increase': 505,\n",
       " 'maximum': 506,\n",
       " 'interference': 507,\n",
       " 'transfer': 508,\n",
       " 'agents': 509,\n",
       " 'goal': 510,\n",
       " 'action': 511,\n",
       " 'area': 512,\n",
       " 'map': 513,\n",
       " 'discuss': 514,\n",
       " 'stochastic': 515,\n",
       " 'path': 516,\n",
       " 'article': 517,\n",
       " 'fully': 518,\n",
       " 'series': 519,\n",
       " 'apply': 520,\n",
       " 'interest': 521,\n",
       " 'resulting': 522,\n",
       " 'metrics': 523,\n",
       " 'grid': 524,\n",
       " 'automatically': 525,\n",
       " 'depth': 526,\n",
       " 'processes': 527,\n",
       " 'embedding': 528,\n",
       " 'resource': 529,\n",
       " 'domains': 530,\n",
       " 'reduction': 531,\n",
       " 'efficiently': 532,\n",
       " 'matching': 533,\n",
       " 'full': 534,\n",
       " 'relevant': 535,\n",
       " 'require': 536,\n",
       " 'complete': 537,\n",
       " 'classical': 538,\n",
       " 'makes': 539,\n",
       " 'automatic': 540,\n",
       " 'after': 541,\n",
       " 'signals': 542,\n",
       " 'languages': 543,\n",
       " 'wide': 544,\n",
       " 'difficult': 545,\n",
       " 'associated': 546,\n",
       " 'services': 547,\n",
       " 'improved': 548,\n",
       " 'codes': 549,\n",
       " 'independent': 550,\n",
       " 'increasing': 551,\n",
       " 'privacy': 552,\n",
       " 'implemented': 553,\n",
       " 'attacks': 554,\n",
       " 'empirical': 555,\n",
       " 'observed': 556,\n",
       " 'derive': 557,\n",
       " 'setting': 558,\n",
       " 'what': 559,\n",
       " 'should': 560,\n",
       " 'required': 561,\n",
       " 'bounds': 562,\n",
       " 'approximation': 563,\n",
       " 'directly': 564,\n",
       " 'predict': 565,\n",
       " 'identification': 566,\n",
       " 'operations': 567,\n",
       " 'metric': 568,\n",
       " 'speed': 569,\n",
       " 'ability': 570,\n",
       " 'provided': 571,\n",
       " 'requirements': 572,\n",
       " 'regression': 573,\n",
       " 'sequences': 574,\n",
       " 'adaptive': 575,\n",
       " 'issues': 576,\n",
       " 'means': 577,\n",
       " 'transmission': 578,\n",
       " 'synthetic': 579,\n",
       " 'coding': 580,\n",
       " 'either': 581,\n",
       " 'convex': 582,\n",
       " 'schemes': 583,\n",
       " 'program': 584,\n",
       " 'reconstruction': 585,\n",
       " 'certain': 586,\n",
       " 'tree': 587,\n",
       " 'testing': 588,\n",
       " 'times': 589,\n",
       " 'tracking': 590,\n",
       " 'works': 591,\n",
       " 'critical': 592,\n",
       " 'strong': 593,\n",
       " 'scientific': 594,\n",
       " 'binary': 595,\n",
       " 'technology': 596,\n",
       " 'whether': 597,\n",
       " 'components': 598,\n",
       " 'logic': 599,\n",
       " 'convergence': 600,\n",
       " 'community': 601,\n",
       " 'database': 602,\n",
       " 'amount': 603,\n",
       " 'off': 604,\n",
       " 'faster': 605,\n",
       " 'sample': 606,\n",
       " 'underlying': 607,\n",
       " 'phase': 608,\n",
       " 'vision': 609,\n",
       " 'management': 610,\n",
       " 'introduced': 611,\n",
       " 'states': 612,\n",
       " 'major': 613,\n",
       " 'comparison': 614,\n",
       " 'interaction': 615,\n",
       " 'practice': 616,\n",
       " 'widely': 617,\n",
       " 'characteristics': 618,\n",
       " 'conventional': 619,\n",
       " 'sources': 620,\n",
       " 'train': 621,\n",
       " 'effectively': 622,\n",
       " 'fixed': 623,\n",
       " 'nonlinear': 624,\n",
       " 'additional': 625,\n",
       " 'labels': 626,\n",
       " 'solving': 627,\n",
       " 'unsupervised': 628,\n",
       " 'capture': 629,\n",
       " 'improves': 630,\n",
       " 'question': 631,\n",
       " 'rank': 632,\n",
       " 'enables': 633,\n",
       " 'improvement': 634,\n",
       " 'variety': 635,\n",
       " 'reinforcement': 636,\n",
       " 'overall': 637,\n",
       " 'active': 638,\n",
       " 'latent': 639,\n",
       " 'digital': 640,\n",
       " 'change': 641,\n",
       " 'help': 642,\n",
       " 'sensor': 643,\n",
       " 'finding': 644,\n",
       " 'variables': 645,\n",
       " 'mean': 646,\n",
       " 'feedback': 647,\n",
       " 'detect': 648,\n",
       " 'degree': 649,\n",
       " 'spectral': 650,\n",
       " 'performed': 651,\n",
       " 'issue': 652,\n",
       " 'layers': 653,\n",
       " 'hardware': 654,\n",
       " 'corresponding': 655,\n",
       " 'cross': 656,\n",
       " 'building': 657,\n",
       " 'event': 658,\n",
       " 'programs': 659,\n",
       " 'rules': 660,\n",
       " 'correlation': 661,\n",
       " 'respect': 662,\n",
       " 'derived': 663,\n",
       " 'hybrid': 664,\n",
       " 'entropy': 665,\n",
       " 'probabilistic': 666,\n",
       " 'evolution': 667,\n",
       " 'allow': 668,\n",
       " 'joint': 669,\n",
       " 'basic': 670,\n",
       " 'aspects': 671,\n",
       " 'expected': 672,\n",
       " 'yet': 673,\n",
       " '5': 674,\n",
       " 'along': 675,\n",
       " 'four': 676,\n",
       " 'changes': 677,\n",
       " 'providing': 678,\n",
       " 'robustness': 679,\n",
       " 'leads': 680,\n",
       " 'c': 681,\n",
       " 'procedure': 682,\n",
       " 'researchers': 683,\n",
       " 'planning': 684,\n",
       " 'parameter': 685,\n",
       " 'driven': 686,\n",
       " 'necessary': 687,\n",
       " 'cannot': 688,\n",
       " 'classifier': 689,\n",
       " 'role': 690,\n",
       " 'distributions': 691,\n",
       " 'environments': 692,\n",
       " 'instead': 693,\n",
       " 'towards': 694,\n",
       " 'especially': 695,\n",
       " 'link': 696,\n",
       " 'region': 697,\n",
       " 'artificial': 698,\n",
       " 'events': 699,\n",
       " 'explore': 700,\n",
       " 'studied': 701,\n",
       " 'label': 702,\n",
       " 'component': 703,\n",
       " 'considering': 704,\n",
       " 'basis': 705,\n",
       " 'ratio': 706,\n",
       " 'rates': 707,\n",
       " 'interactions': 708,\n",
       " 'review': 709,\n",
       " 'usually': 710,\n",
       " 'factors': 711,\n",
       " 'public': 712,\n",
       " 'become': 713,\n",
       " 'compute': 714,\n",
       " 'protocol': 715,\n",
       " 'measurements': 716,\n",
       " 'medical': 717,\n",
       " 'levels': 718,\n",
       " 'top': 719,\n",
       " 'according': 720,\n",
       " 'execution': 721,\n",
       " 'nature': 722,\n",
       " 'sensing': 723,\n",
       " 'actions': 724,\n",
       " 'proposes': 725,\n",
       " 'methodology': 726,\n",
       " 'weighted': 727,\n",
       " 'promising': 728,\n",
       " 'internet': 729,\n",
       " 'weights': 730,\n",
       " 'initial': 731,\n",
       " 'namely': 732,\n",
       " 'although': 733,\n",
       " 'gaussian': 734,\n",
       " 'represent': 735,\n",
       " 'hard': 736,\n",
       " 'science': 737,\n",
       " 'queries': 738,\n",
       " 'regions': 739,\n",
       " 'competitive': 740,\n",
       " 'least': 741,\n",
       " 'fields': 742,\n",
       " 'relations': 743,\n",
       " 'produce': 744,\n",
       " '4': 745,\n",
       " 'videos': 746,\n",
       " 'shape': 747,\n",
       " 'combination': 748,\n",
       " 'activity': 749,\n",
       " 'localization': 750,\n",
       " 'concepts': 751,\n",
       " 'bayesian': 752,\n",
       " 'positive': 753,\n",
       " 'kernel': 754,\n",
       " 'effects': 755,\n",
       " 'delay': 756,\n",
       " 'pose': 757,\n",
       " 'approximate': 758,\n",
       " 'made': 759,\n",
       " 'channels': 760,\n",
       " 'formulation': 761,\n",
       " 'demonstrated': 762,\n",
       " 'aim': 763,\n",
       " 'importance': 764,\n",
       " 'instances': 765,\n",
       " 'connected': 766,\n",
       " 'baseline': 767,\n",
       " 'shared': 768,\n",
       " 'per': 769,\n",
       " 'proof': 770,\n",
       " 'account': 771,\n",
       " 'throughput': 772,\n",
       " 'media': 773,\n",
       " 'sufficient': 774,\n",
       " 'extend': 775,\n",
       " 'filter': 776,\n",
       " 'reduced': 777,\n",
       " 'automated': 778,\n",
       " '10': 779,\n",
       " 'fundamental': 780,\n",
       " 'games': 781,\n",
       " 'block': 782,\n",
       " 'pre': 783,\n",
       " 'polynomial': 784,\n",
       " 'alternative': 785,\n",
       " 'response': 786,\n",
       " 'iot': 787,\n",
       " 'suitable': 788,\n",
       " 'every': 789,\n",
       " 'instance': 790,\n",
       " 'ii': 791,\n",
       " 'must': 792,\n",
       " 'english': 793,\n",
       " 'engineering': 794,\n",
       " 'influence': 795,\n",
       " 'understand': 796,\n",
       " 'embeddings': 797,\n",
       " 'storage': 798,\n",
       " 'precision': 799,\n",
       " 'property': 800,\n",
       " 'structured': 801,\n",
       " 'usage': 802,\n",
       " 'performs': 803,\n",
       " 'location': 804,\n",
       " 'combined': 805,\n",
       " 'typically': 806,\n",
       " 'relation': 807,\n",
       " 'generalization': 808,\n",
       " 'whose': 809,\n",
       " 'suggest': 810,\n",
       " 'd': 811,\n",
       " 'fine': 812,\n",
       " 'retrieval': 813,\n",
       " 'lead': 814,\n",
       " 'matrices': 815,\n",
       " 'extraction': 816,\n",
       " 'simultaneously': 817,\n",
       " 'enable': 818,\n",
       " 'despite': 819,\n",
       " 'factor': 820,\n",
       " 'density': 821,\n",
       " 'cluster': 822,\n",
       " 'stage': 823,\n",
       " 'questions': 824,\n",
       " 'take': 825,\n",
       " 'generalized': 826,\n",
       " 'stability': 827,\n",
       " 'respectively': 828,\n",
       " 'presence': 829,\n",
       " 'collected': 830,\n",
       " 'scheduling': 831,\n",
       " 'activities': 832,\n",
       " 'together': 833,\n",
       " 'length': 834,\n",
       " 'showing': 835,\n",
       " 'vectors': 836,\n",
       " 'operation': 837,\n",
       " 'technologies': 838,\n",
       " 'modern': 839,\n",
       " 'idea': 840,\n",
       " 'ones': 841,\n",
       " 'hence': 842,\n",
       " 'far': 843,\n",
       " 'direct': 844,\n",
       " 'total': 845,\n",
       " 'policies': 846,\n",
       " 'scene': 847,\n",
       " 'relative': 848,\n",
       " 'version': 849,\n",
       " 'diverse': 850,\n",
       " 'inspired': 851,\n",
       " 'lstm': 852,\n",
       " 'areas': 853,\n",
       " 'learns': 854,\n",
       " 'minimum': 855,\n",
       " 'mining': 856,\n",
       " 'construction': 857,\n",
       " 'illustrate': 858,\n",
       " 'implement': 859,\n",
       " 'markov': 860,\n",
       " 'variable': 861,\n",
       " 'platform': 862,\n",
       " 'purpose': 863,\n",
       " 'run': 864,\n",
       " 'maps': 865,\n",
       " 'build': 866,\n",
       " 'contrast': 867,\n",
       " 'color': 868,\n",
       " 'topic': 869,\n",
       " 'dependent': 870,\n",
       " 'geometric': 871,\n",
       " 'lack': 872,\n",
       " 'device': 873,\n",
       " 'improving': 874,\n",
       " 'determine': 875,\n",
       " 'protocols': 876,\n",
       " 'estimates': 877,\n",
       " 'would': 878,\n",
       " 'compression': 879,\n",
       " 'pattern': 880,\n",
       " 'encoding': 881,\n",
       " 'spectrum': 882,\n",
       " 'co': 883,\n",
       " 'structural': 884,\n",
       " 'arbitrary': 885,\n",
       " 'realistic': 886,\n",
       " 'success': 887,\n",
       " 'extracted': 888,\n",
       " 'pairs': 889,\n",
       " 'links': 890,\n",
       " 'product': 891,\n",
       " 'corpus': 892,\n",
       " 'predictions': 893,\n",
       " 'unknown': 894,\n",
       " 'virtual': 895,\n",
       " 'combining': 896,\n",
       " 'appropriate': 897,\n",
       " 'core': 898,\n",
       " 'hierarchical': 899,\n",
       " 'score': 900,\n",
       " 'attack': 901,\n",
       " 'propagation': 902,\n",
       " 'gain': 903,\n",
       " 'tested': 904,\n",
       " 'improvements': 905,\n",
       " 'particularly': 906,\n",
       " 'mathematical': 907,\n",
       " 'noisy': 908,\n",
       " 'frame': 909,\n",
       " 'verification': 910,\n",
       " 'another': 911,\n",
       " 'previously': 912,\n",
       " 'labeled': 913,\n",
       " 'zero': 914,\n",
       " 'rather': 915,\n",
       " 'static': 916,\n",
       " 'semi': 917,\n",
       " 'elements': 918,\n",
       " 'aims': 919,\n",
       " 'classifiers': 920,\n",
       " 'computationally': 921,\n",
       " 'sub': 922,\n",
       " 'outperform': 923,\n",
       " 'uncertainty': 924,\n",
       " 'consists': 925,\n",
       " 'style': 926,\n",
       " 'controller': 927,\n",
       " 'answer': 928,\n",
       " 'brain': 929,\n",
       " 'errors': 930,\n",
       " 'clusters': 931,\n",
       " 'forward': 932,\n",
       " 'past': 933,\n",
       " 'constraint': 934,\n",
       " '6': 935,\n",
       " 'performing': 936,\n",
       " 'extended': 937,\n",
       " 'transformation': 938,\n",
       " 'edge': 939,\n",
       " 'jointly': 940,\n",
       " 'easily': 941,\n",
       " 'adaptation': 942,\n",
       " 'generating': 943,\n",
       " 'manner': 944,\n",
       " 'sequential': 945,\n",
       " 'construct': 946,\n",
       " 'conducted': 947,\n",
       " 'takes': 948,\n",
       " 'decoding': 949,\n",
       " 'base': 950,\n",
       " 'fact': 951,\n",
       " 'robots': 952,\n",
       " 'cnns': 953,\n",
       " 'consumption': 954,\n",
       " 'connections': 955,\n",
       " 'include': 956,\n",
       " 'inputs': 957,\n",
       " 'attributes': 958,\n",
       " 'aware': 959,\n",
       " 'needed': 960,\n",
       " 'developing': 961,\n",
       " 'sharing': 962,\n",
       " 'measurement': 963,\n",
       " 'sentence': 964,\n",
       " 'project': 965,\n",
       " 'hidden': 966,\n",
       " 'special': 967,\n",
       " 'imaging': 968,\n",
       " 'transform': 969,\n",
       " 'survey': 970,\n",
       " 'spaces': 971,\n",
       " 'capable': 972,\n",
       " 'extract': 973,\n",
       " 'rely': 974,\n",
       " 'utility': 975,\n",
       " 'findings': 976,\n",
       " 'close': 977,\n",
       " 'predictive': 978,\n",
       " 'driving': 979,\n",
       " 'condition': 980,\n",
       " 'consistent': 981,\n",
       " 'settings': 982,\n",
       " 'smart': 983,\n",
       " 'receiver': 984,\n",
       " 'define': 985,\n",
       " 'expression': 986,\n",
       " 'decomposition': 987,\n",
       " 'mechanisms': 988,\n",
       " 'next': 989,\n",
       " 'iterative': 990,\n",
       " 'sensitive': 991,\n",
       " 'line': 992,\n",
       " 'people': 993,\n",
       " 'steps': 994,\n",
       " 'sum': 995,\n",
       " 'mapping': 996,\n",
       " 'r': 997,\n",
       " 'who': 998,\n",
       " 'reasoning': 999,\n",
       " 'advantage': 1000,\n",
       " ...}"
      ]
     },
     "execution_count": 3,
     "metadata": {},
     "output_type": "execute_result"
    }
   ],
   "source": [
    "word_index"
   ]
  },
  {
   "cell_type": "code",
   "execution_count": 10,
   "metadata": {},
   "outputs": [
    {
     "data": {
      "text/plain": [
       "181"
      ]
     },
     "execution_count": 10,
     "metadata": {},
     "output_type": "execute_result"
    }
   ],
   "source": [
    "max(X_train['sent_len'])"
   ]
  },
  {
   "cell_type": "code",
   "execution_count": 5,
   "metadata": {},
   "outputs": [
    {
     "name": "stdout",
     "output_type": "stream",
     "text": [
      "CPU times: user 1.05 s, sys: 19.4 ms, total: 1.07 s\n",
      "Wall time: 1.07 s\n"
     ]
    },
    {
     "data": {
      "text/plain": [
       "(43458, 181)"
      ]
     },
     "execution_count": 5,
     "metadata": {},
     "output_type": "execute_result"
    }
   ],
   "source": [
    "%%time\n",
    "\n",
    "from keras.preprocessing.sequence import pad_sequences\n",
    "\n",
    "# convert sentence to numeric sequence\n",
    "X_train_seq = tokenizer.texts_to_sequences(X_train['sentence'].values)\n",
    "\n",
    "# make every sequence equal size with padding\n",
    "X_train_seq = pad_sequences(X_train_seq, maxlen=181) # max_len in sentence in training records\n",
    "\n",
    "X_train_seq.shape # a vector of 181 elements (a vector for each sentence)"
   ]
  },
  {
   "cell_type": "code",
   "execution_count": 6,
   "metadata": {},
   "outputs": [
    {
     "data": {
      "text/plain": [
       "(43458, 6)"
      ]
     },
     "execution_count": 6,
     "metadata": {},
     "output_type": "execute_result"
    }
   ],
   "source": [
    "y_train_series = pd.get_dummies(y_train).values\n",
    "y_train_series.shape # 6 categories (as one-hot label)"
   ]
  },
  {
   "cell_type": "code",
   "execution_count": 7,
   "metadata": {},
   "outputs": [
    {
     "data": {
      "text/plain": [
       "array([[0, 0, 0, 1, 0, 0],\n",
       "       [0, 0, 1, 0, 0, 0],\n",
       "       [0, 1, 0, 0, 0, 0],\n",
       "       ...,\n",
       "       [0, 0, 0, 0, 0, 1],\n",
       "       [1, 0, 0, 0, 0, 0],\n",
       "       [0, 0, 0, 1, 0, 0]], dtype=uint8)"
      ]
     },
     "execution_count": 7,
     "metadata": {},
     "output_type": "execute_result"
    }
   ],
   "source": [
    "y_train_series"
   ]
  },
  {
   "cell_type": "code",
   "execution_count": 14,
   "metadata": {},
   "outputs": [
    {
     "name": "stdout",
     "output_type": "stream",
     "text": [
      "(10865, 181)\n"
     ]
    },
    {
     "data": {
      "text/plain": [
       "(10865, 6)"
      ]
     },
     "execution_count": 14,
     "metadata": {},
     "output_type": "execute_result"
    }
   ],
   "source": [
    "## prepare for evaluation data as well\n",
    "\n",
    "X_test_seq = tokenizer.texts_to_sequences(X_test['sentence'].values)\n",
    "X_test_seq = pad_sequences(X_test_seq, maxlen=181) \n",
    "\n",
    "y_test_series = pd.get_dummies(y_test).values\n",
    "\n",
    "print(X_test_seq.shape) # 10865 sentence with 181 terms sequence (pad if less than 181)\n",
    "y_test_series.shape    # 10865 sentence with 6 label sequence (one-hot format)"
   ]
  },
  {
   "cell_type": "markdown",
   "metadata": {},
   "source": [
    "### word vector (use glove 6B 100d)"
   ]
  },
  {
   "cell_type": "code",
   "execution_count": 3,
   "metadata": {},
   "outputs": [
    {
     "data": {
      "text/plain": [
       "400000"
      ]
     },
     "execution_count": 3,
     "metadata": {},
     "output_type": "execute_result"
    }
   ],
   "source": [
    "import numpy as np\n",
    "\n",
    "# dictionary : {word: vector}\n",
    "embeddings_index = dict()\n",
    "with open('./glove.6B/glove.6B.100d.txt') as f:\n",
    "    for line in f:\n",
    "        values = line.split() # a word and a bunch of vector elements\n",
    "        word = values[0]\n",
    "        coefs = np.asarray(values[1:], dtype='float32')\n",
    "        embeddings_index[word] = coefs\n",
    "\n",
    "\n",
    "len(embeddings_index) # num of word vectors"
   ]
  },
  {
   "cell_type": "code",
   "execution_count": 11,
   "metadata": {},
   "outputs": [
    {
     "data": {
      "text/plain": [
       "array([-0.038194, -0.24487 ,  0.72812 , -0.39961 ,  0.083172,  0.043953,\n",
       "       -0.39141 ,  0.3344  , -0.57545 ,  0.087459,  0.28787 , -0.06731 ,\n",
       "        0.30906 , -0.26384 , -0.13231 , -0.20757 ,  0.33395 , -0.33848 ,\n",
       "       -0.31743 , -0.48336 ,  0.1464  , -0.37304 ,  0.34577 ,  0.052041,\n",
       "        0.44946 , -0.46971 ,  0.02628 , -0.54155 , -0.15518 , -0.14107 ,\n",
       "       -0.039722,  0.28277 ,  0.14393 ,  0.23464 , -0.31021 ,  0.086173,\n",
       "        0.20397 ,  0.52624 ,  0.17164 , -0.082378, -0.71787 , -0.41531 ,\n",
       "        0.20335 , -0.12763 ,  0.41367 ,  0.55187 ,  0.57908 , -0.33477 ,\n",
       "       -0.36559 , -0.54857 , -0.062892,  0.26584 ,  0.30205 ,  0.99775 ,\n",
       "       -0.80481 , -3.0243  ,  0.01254 , -0.36942 ,  2.2167  ,  0.72201 ,\n",
       "       -0.24978 ,  0.92136 ,  0.034514,  0.46745 ,  1.1079  , -0.19358 ,\n",
       "       -0.074575,  0.23353 , -0.052062, -0.22044 ,  0.057162, -0.15806 ,\n",
       "       -0.30798 , -0.41625 ,  0.37972 ,  0.15006 , -0.53212 , -0.2055  ,\n",
       "       -1.2526  ,  0.071624,  0.70565 ,  0.49744 , -0.42063 ,  0.26148 ,\n",
       "       -1.538   , -0.30223 , -0.073438, -0.28312 ,  0.37104 , -0.25217 ,\n",
       "        0.016215, -0.017099, -0.38984 ,  0.87424 , -0.72569 , -0.51058 ,\n",
       "       -0.52028 , -0.1459  ,  0.8278  ,  0.27062 ], dtype=float32)"
      ]
     },
     "execution_count": 11,
     "metadata": {},
     "output_type": "execute_result"
    }
   ],
   "source": [
    "embeddings_index['the']"
   ]
  },
  {
   "cell_type": "code",
   "execution_count": 4,
   "metadata": {},
   "outputs": [],
   "source": [
    "# embedding dimension 100\n",
    "embedding_matrix = np.zeros((len(word_index) + 1, 100))\n",
    "for word, i in word_index.items():\n",
    "    embedding_vector = embeddings_index.get(word)\n",
    "    # if word not in embeddings_index, the value will be all zeros\n",
    "    if embedding_vector is not None:\n",
    "        embedding_matrix[i] = embedding_vector"
   ]
  },
  {
   "cell_type": "code",
   "execution_count": 13,
   "metadata": {},
   "outputs": [
    {
     "data": {
      "text/plain": [
       "array([[ 0.        ,  0.        ,  0.        , ...,  0.        ,\n",
       "         0.        ,  0.        ],\n",
       "       [-0.038194  , -0.24487001,  0.72812003, ..., -0.1459    ,\n",
       "         0.82779998,  0.27061999],\n",
       "       [-0.1529    , -0.24279   ,  0.89837003, ..., -0.59100002,\n",
       "         1.00390005,  0.20664001],\n",
       "       ...,\n",
       "       [ 0.12661999, -0.3845    , -0.82560003, ...,  0.76368999,\n",
       "         0.61236   ,  0.34316   ],\n",
       "       [-0.19689   , -0.54955   , -0.28466001, ..., -0.18875   ,\n",
       "        -0.43698001,  0.14554   ],\n",
       "       [ 0.16864   ,  0.18495999, -0.53688997, ...,  0.20904   ,\n",
       "         0.19298001,  0.063896  ]])"
      ]
     },
     "execution_count": 13,
     "metadata": {},
     "output_type": "execute_result"
    }
   ],
   "source": [
    "embedding_matrix"
   ]
  },
  {
   "cell_type": "markdown",
   "metadata": {},
   "source": [
    "### RNN model"
   ]
  },
  {
   "cell_type": "code",
   "execution_count": 15,
   "metadata": {},
   "outputs": [
    {
     "name": "stdout",
     "output_type": "stream",
     "text": [
      "WARNING:tensorflow:From /Users/user/anaconda3/lib/python3.7/site-packages/keras/backend/tensorflow_backend.py:3445: calling dropout (from tensorflow.python.ops.nn_ops) with keep_prob is deprecated and will be removed in a future version.\n",
      "Instructions for updating:\n",
      "Please use `rate` instead of `keep_prob`. Rate should be set to `rate = 1 - keep_prob`.\n",
      "WARNING:tensorflow:From /Users/user/anaconda3/lib/python3.7/site-packages/keras/optimizers.py:790: The name tf.train.Optimizer is deprecated. Please use tf.compat.v1.train.Optimizer instead.\n",
      "\n",
      "WARNING:tensorflow:From /Users/user/anaconda3/lib/python3.7/site-packages/tensorflow/python/ops/math_grad.py:1250: add_dispatch_support.<locals>.wrapper (from tensorflow.python.ops.array_ops) is deprecated and will be removed in a future version.\n",
      "Instructions for updating:\n",
      "Use tf.where in 2.0, which has the same broadcast rule as np.where\n",
      "Train on 43458 samples, validate on 10865 samples\n",
      "Epoch 1/15\n",
      "43458/43458 [==============================] - 174s 4ms/step - loss: 1.4187 - acc: 0.4239 - val_loss: 1.3011 - val_acc: 0.4990\n",
      "Epoch 2/15\n",
      "43458/43458 [==============================] - 163s 4ms/step - loss: 1.2636 - acc: 0.5098 - val_loss: 1.2275 - val_acc: 0.5335\n",
      "Epoch 3/15\n",
      "43458/43458 [==============================] - 163s 4ms/step - loss: 1.2122 - acc: 0.5315 - val_loss: 1.1870 - val_acc: 0.5453\n",
      "Epoch 4/15\n",
      "43458/43458 [==============================] - 167s 4ms/step - loss: 1.1787 - acc: 0.5476 - val_loss: 1.1660 - val_acc: 0.5591\n",
      "Epoch 5/15\n",
      "43458/43458 [==============================] - 163s 4ms/step - loss: 1.1531 - acc: 0.5583 - val_loss: 1.1630 - val_acc: 0.5614\n",
      "Epoch 6/15\n",
      "43458/43458 [==============================] - 163s 4ms/step - loss: 1.1328 - acc: 0.5660 - val_loss: 1.1497 - val_acc: 0.5670\n",
      "Epoch 7/15\n",
      "43458/43458 [==============================] - 162s 4ms/step - loss: 1.1184 - acc: 0.5691 - val_loss: 1.1485 - val_acc: 0.5666\n",
      "Epoch 8/15\n",
      "43458/43458 [==============================] - 160s 4ms/step - loss: 1.1480 - acc: 0.5580 - val_loss: 1.1573 - val_acc: 0.5650\n",
      "Epoch 9/15\n",
      "43458/43458 [==============================] - 159s 4ms/step - loss: 1.1035 - acc: 0.5755 - val_loss: 1.1492 - val_acc: 0.5672\n",
      "Epoch 10/15\n",
      "43458/43458 [==============================] - 168s 4ms/step - loss: 1.0818 - acc: 0.5828 - val_loss: 1.1633 - val_acc: 0.5613\n",
      "CPU times: user 1h 23min 31s, sys: 23min 55s, total: 1h 47min 26s\n",
      "Wall time: 27min 23s\n"
     ]
    }
   ],
   "source": [
    "%%time\n",
    "\n",
    "from keras.models import Sequential\n",
    "from keras.layers import Embedding, LSTM, Dense\n",
    "from keras.callbacks import EarlyStopping\n",
    "\n",
    "# a linear stack of layers\n",
    "seq_model = Sequential()\n",
    "# embedding layer : 26000 words (max), \n",
    "# 100 dimension of embedding (dim of each word vector), \n",
    "# input len 181\n",
    "seq_model.add(Embedding(26000, 100, weights=[embedding_matrix],\n",
    "                        input_length=X_train_seq.shape[1],\n",
    "                        trainable=False)) # don't train the embedding layer (use embedding_matrix)\n",
    "\n",
    "# LSTM layer\n",
    "seq_model.add(LSTM(100, dropout=0.2, recurrent_dropout=0.2))\n",
    "\n",
    "# regular densely-connected NN layer, use softmax as activation function (loss function)\n",
    "# 6 labels\n",
    "seq_model.add(Dense(6, activation='softmax'))\n",
    "\n",
    "# categorical_crossentropy for multi-label classification \n",
    "seq_model.compile(optimizer='adam',\n",
    "                  loss='categorical_crossentropy',\n",
    "                  metrics=['accuracy'])\n",
    "\n",
    "epochs = 15\n",
    "batch_size = 32\n",
    "\n",
    "history = seq_model.fit(X_train_seq, y_train_series, \n",
    "                        epochs=epochs, batch_size=batch_size,\n",
    "                        validation_data=(X_test_seq, y_test_series), \n",
    "                        # stop training when a monitored quantity has stopped improving (change lesser than 0.0001) after 3 epochs\n",
    "                        callbacks=[EarlyStopping(monitor='val_loss', \n",
    "                                                 patience=3, min_delta=0.0001)])"
   ]
  },
  {
   "cell_type": "code",
   "execution_count": 16,
   "metadata": {},
   "outputs": [],
   "source": [
    "import pickle\n",
    "\n",
    "# save model & history\n",
    "seq_model.save('./model/rnn_glove.h5')   \n",
    "pickle.dump(history, open(\"./model/rnn_glove_history.pkl\", \"wb\"))"
   ]
  },
  {
   "cell_type": "markdown",
   "metadata": {},
   "source": [
    "## Evaluate on Validation Set"
   ]
  },
  {
   "cell_type": "code",
   "execution_count": 17,
   "metadata": {},
   "outputs": [
    {
     "name": "stdout",
     "output_type": "stream",
     "text": [
      "10865/10865 [==============================] - 8s 760us/step\n"
     ]
    },
    {
     "data": {
      "text/plain": [
       "[1.1632621937614402, 0.5612517257686919]"
      ]
     },
     "execution_count": 17,
     "metadata": {},
     "output_type": "execute_result"
    }
   ],
   "source": [
    "# accuracy evaluation : Loss & Accuracy\n",
    "seq_model.evaluate(X_test_seq,y_test_series)"
   ]
  },
  {
   "cell_type": "code",
   "execution_count": 18,
   "metadata": {},
   "outputs": [
    {
     "name": "stdout",
     "output_type": "stream",
     "text": [
      "CPU times: user 18.5 s, sys: 3.21 s, total: 21.7 s\n",
      "Wall time: 7.61 s\n"
     ]
    }
   ],
   "source": [
    "%%time\n",
    "pred_result = seq_model.predict(X_test_seq)"
   ]
  },
  {
   "cell_type": "code",
   "execution_count": 58,
   "metadata": {},
   "outputs": [
    {
     "data": {
      "text/plain": [
       "{3: 'OBJECTIVES',\n",
       " 2: 'METHODS',\n",
       " 1: 'CONCLUSIONS',\n",
       " 0: 'BACKGROUND',\n",
       " 5: 'RESULTS',\n",
       " 4: 'OTHERS'}"
      ]
     },
     "execution_count": 58,
     "metadata": {},
     "output_type": "execute_result"
    }
   ],
   "source": [
    "label_lookup = dict()\n",
    "for s, label in zip(y_train_series, y_train):\n",
    "    if np.argmax(s) not in label_lookup:\n",
    "        label_lookup.update({np.argmax(s):label})\n",
    "\n",
    "label_lookup"
   ]
  },
  {
   "cell_type": "code",
   "execution_count": 25,
   "metadata": {},
   "outputs": [],
   "source": [
    "with open('label_lookup.pkl', 'wb') as f:\n",
    "    pickle.dump(label_lookup, f)"
   ]
  },
  {
   "cell_type": "code",
   "execution_count": 21,
   "metadata": {},
   "outputs": [
    {
     "data": {
      "image/png": "[encoded data removed]",
      "text/plain": [
       "<Figure size 432x288 with 1 Axes>"
      ]
     },
     "metadata": {},
     "output_type": "display_data"
    }
   ],
   "source": [
    "import matplotlib.pyplot as plt\n",
    "%matplotlib inline\n",
    "plt.style.use('ggplot')\n",
    "\n",
    "plt.title('Loss')\n",
    "plt.plot(history.history['loss'], label='train')\n",
    "plt.plot(history.history['val_loss'], label='test')\n",
    "plt.legend()\n",
    "plt.show()"
   ]
  },
  {
   "cell_type": "code",
   "execution_count": 22,
   "metadata": {},
   "outputs": [
    {
     "data": {
      "image/png": "[encoded data removed]",
      "text/plain": [
       "<Figure size 432x288 with 1 Axes>"
      ]
     },
     "metadata": {},
     "output_type": "display_data"
    }
   ],
   "source": [
    "# turning point around 5th iteration\n",
    "plt.title('Accuracy')\n",
    "plt.plot(history.history['acc'], label='train')\n",
    "plt.plot(history.history['val_acc'], label='test')\n",
    "plt.legend()\n",
    "plt.show()"
   ]
  },
  {
   "cell_type": "code",
   "execution_count": 23,
   "metadata": {},
   "outputs": [
    {
     "name": "stdout",
     "output_type": "stream",
     "text": [
      "0.5612517257248044\n",
      "              precision    recall  f1-score   support\n",
      "\n",
      "  BACKGROUND       0.65      0.79      0.71      2718\n",
      " CONCLUSIONS       0.40      0.16      0.23      1044\n",
      "     METHODS       0.55      0.59      0.57      2759\n",
      "  OBJECTIVES       0.46      0.49      0.48      1799\n",
      "      OTHERS       0.38      0.17      0.23       192\n",
      "     RESULTS       0.57      0.52      0.54      2353\n",
      "\n",
      "    accuracy                           0.56     10865\n",
      "   macro avg       0.50      0.45      0.46     10865\n",
      "weighted avg       0.55      0.56      0.55     10865\n",
      "\n"
     ]
    }
   ],
   "source": [
    "# low score on 'OTHERS' due to lack of support\n",
    "\n",
    "def get_labels(seq):\n",
    "    return [label_lookup[np.argmax(s)] for s in seq]\n",
    "\n",
    "from sklearn.metrics import accuracy_score\n",
    "from sklearn.metrics import classification_report\n",
    "\n",
    "y_pred = get_labels(pred_result)\n",
    "\n",
    "print(accuracy_score(y_test, y_pred))\n",
    "print(classification_report(y_true=y_test, y_pred=y_pred))"
   ]
  },
  {
   "cell_type": "code",
   "execution_count": 30,
   "metadata": {},
   "outputs": [
    {
     "data": {
      "text/plain": [
       "['OBJECTIVES', 'METHODS', 'CONCLUSIONS', 'BACKGROUND', 'RESULTS', 'OTHERS']"
      ]
     },
     "execution_count": 30,
     "metadata": {},
     "output_type": "execute_result"
    }
   ],
   "source": [
    "list(label_lookup.values())"
   ]
  },
  {
   "cell_type": "code",
   "execution_count": 26,
   "metadata": {},
   "outputs": [],
   "source": [
    "from sklearn.metrics import confusion_matrix\n",
    "\n",
    "cm = confusion_matrix(y_true=y_test, y_pred=y_pred) "
   ]
  },
  {
   "cell_type": "code",
   "execution_count": 46,
   "metadata": {},
   "outputs": [],
   "source": [
    "### from lab2 ###\n",
    "\n",
    "# Funciton for visualizing confusion_matrix\n",
    "import matplotlib.pyplot as plt\n",
    "import seaborn as sns\n",
    "import numpy as np\n",
    "import itertools\n",
    "\n",
    "def plot_confusion_matrix(cm, classes, title='Confusion matrix',\n",
    "                          cmap=sns.cubehelix_palette(as_cmap=True)):\n",
    "    \"\"\"\n",
    "    This function is modified from: \n",
    "    http://scikit-learn.org/stable/auto_examples/model_selection/plot_confusion_matrix.html\n",
    "    \"\"\"\n",
    "    classes.sort()\n",
    "    #tick_marks = np.arange(len(classes))    \n",
    "    \n",
    "    fig, ax = plt.subplots(figsize=(10,10))\n",
    "    im = ax.imshow(cm, interpolation='nearest', cmap=cmap)\n",
    "    ax.figure.colorbar(im, ax=ax)\n",
    "    ax.set(xticks=np.arange(cm.shape[1]),\n",
    "           yticks=np.arange(cm.shape[0]),\n",
    "           xticklabels = classes,\n",
    "           yticklabels = classes,\n",
    "           title = title,\n",
    "           xlabel = 'True label',\n",
    "           ylabel = 'Predicted label')\n",
    "\n",
    "    fmt = 'd' # discrete\n",
    "    padding = 0.5\n",
    "    thresh = cm.max() / 2.\n",
    "    for i, j in itertools.product(range(cm.shape[0]), range(cm.shape[1])):\n",
    "        plt.text(j, i, format(cm[i, j], fmt), horizontalalignment=\"center\", color=\"white\" if cm[i, j] > thresh else \"black\")\n",
    "    ylim_top = len(classes) - padding\n",
    "    plt.ylim([ylim_top, - padding])\n",
    "    plt.tight_layout()\n",
    "    plt.show()"
   ]
  },
  {
   "cell_type": "code",
   "execution_count": 47,
   "metadata": {},
   "outputs": [
    {
     "data": {
      "image/png": "[encoded data removed]",
      "text/plain": [
       "<Figure size 720x720 with 2 Axes>"
      ]
     },
     "metadata": {},
     "output_type": "display_data"
    }
   ],
   "source": [
    "plot_confusion_matrix(cm, classes=list(label_lookup.values()), title='Confusion matrix')"
   ]
  },
  {
   "cell_type": "markdown",
   "metadata": {},
   "source": [
    "## Consider other features\n",
    "\n",
    "want something like\n",
    "\n",
    "    word_feature\n",
    "        |\n",
    "        |\n",
    "        |\n",
    "        v\n",
    "      embedding\n",
    "        |\n",
    "        |\n",
    "        v\n",
    "       LSTM        other_feature\n",
    "         \\             /\n",
    "          \\           /\n",
    "           \\         /\n",
    "            \\       /\n",
    "             \\     /\n",
    "              \\   /\n",
    "              merge\n",
    "                |\n",
    "                |\n",
    "                v\n",
    "               dense\n",
    "                |\n",
    "                |\n",
    "                v\n",
    "               ...\n",
    "\n",
    "### word feature input"
   ]
  },
  {
   "cell_type": "code",
   "execution_count": 9,
   "metadata": {},
   "outputs": [
    {
     "data": {
      "text/plain": [
       "array([[   0,    0,    0, ...,    6,  252,  653],\n",
       "       [   0,    0,    0, ...,  133,  341,  220],\n",
       "       [   0,    0,    0, ..., 2824, 3369,   46],\n",
       "       ...,\n",
       "       [   0,    0,    0, ...,   11, 9858,  476],\n",
       "       [   0,    0,    0, ...,    6,  189,  449],\n",
       "       [   0,    0,    0, ...,  199, 1243, 3243]], dtype=int32)"
      ]
     },
     "execution_count": 9,
     "metadata": {},
     "output_type": "execute_result"
    }
   ],
   "source": [
    "X_train_seq"
   ]
  },
  {
   "cell_type": "code",
   "execution_count": 10,
   "metadata": {},
   "outputs": [
    {
     "data": {
      "text/plain": [
       "(43458, 181)"
      ]
     },
     "execution_count": 10,
     "metadata": {},
     "output_type": "execute_result"
    }
   ],
   "source": [
    "X_train_seq.shape"
   ]
  },
  {
   "cell_type": "markdown",
   "metadata": {},
   "source": [
    "### other features\n",
    "\n",
    "It is very possible for the position of the sentence in the abstract and the length of sentence to be somewhat important regarding the type of the sentence. And they're numeric values."
   ]
  },
  {
   "cell_type": "code",
   "execution_count": 19,
   "metadata": {},
   "outputs": [
    {
     "data": {
      "text/html": [
       "<div>\n",
       "<style scoped>\n",
       "    .dataframe tbody tr th:only-of-type {\n",
       "        vertical-align: middle;\n",
       "    }\n",
       "\n",
       "    .dataframe tbody tr th {\n",
       "        vertical-align: top;\n",
       "    }\n",
       "\n",
       "    .dataframe thead th {\n",
       "        text-align: right;\n",
       "    }\n",
       "</style>\n",
       "<table border=\"1\" class=\"dataframe\">\n",
       "  <thead>\n",
       "    <tr style=\"text-align: right;\">\n",
       "      <th></th>\n",
       "      <th>position</th>\n",
       "      <th>sent_len</th>\n",
       "    </tr>\n",
       "  </thead>\n",
       "  <tbody>\n",
       "    <tr>\n",
       "      <th>15719</th>\n",
       "      <td>3</td>\n",
       "      <td>27</td>\n",
       "    </tr>\n",
       "    <tr>\n",
       "      <th>16546</th>\n",
       "      <td>5</td>\n",
       "      <td>38</td>\n",
       "    </tr>\n",
       "    <tr>\n",
       "      <th>1665</th>\n",
       "      <td>2</td>\n",
       "      <td>34</td>\n",
       "    </tr>\n",
       "    <tr>\n",
       "      <th>15919</th>\n",
       "      <td>2</td>\n",
       "      <td>24</td>\n",
       "    </tr>\n",
       "    <tr>\n",
       "      <th>18058</th>\n",
       "      <td>3</td>\n",
       "      <td>29</td>\n",
       "    </tr>\n",
       "  </tbody>\n",
       "</table>\n",
       "</div>"
      ],
      "text/plain": [
       "       position  sent_len\n",
       "15719         3        27\n",
       "16546         5        38\n",
       "1665          2        34\n",
       "15919         2        24\n",
       "18058         3        29"
      ]
     },
     "execution_count": 19,
     "metadata": {},
     "output_type": "execute_result"
    }
   ],
   "source": [
    "X_train[['position', 'sent_len']][::10000]"
   ]
  },
  {
   "cell_type": "code",
   "execution_count": 20,
   "metadata": {},
   "outputs": [
    {
     "data": {
      "text/plain": [
       "array([[ 3, 27],\n",
       "       [ 2, 32],\n",
       "       [ 4, 28],\n",
       "       ...,\n",
       "       [ 6, 16],\n",
       "       [ 0, 14],\n",
       "       [ 2, 27]])"
      ]
     },
     "execution_count": 20,
     "metadata": {},
     "output_type": "execute_result"
    }
   ],
   "source": [
    "X_train[['position', 'sent_len']].values"
   ]
  },
  {
   "cell_type": "code",
   "execution_count": 8,
   "metadata": {},
   "outputs": [],
   "source": [
    "X_train_other = X_train[['position', 'sent_len']].values\n",
    "X_test_other =   X_test[['position', 'sent_len']].values"
   ]
  },
  {
   "cell_type": "markdown",
   "metadata": {},
   "source": [
    "### layers"
   ]
  },
  {
   "cell_type": "code",
   "execution_count": 10,
   "metadata": {},
   "outputs": [
    {
     "name": "stdout",
     "output_type": "stream",
     "text": [
      "WARNING:tensorflow:From /Users/user/anaconda3/lib/python3.7/site-packages/keras/backend/tensorflow_backend.py:517: The name tf.placeholder is deprecated. Please use tf.compat.v1.placeholder instead.\n",
      "\n",
      "WARNING:tensorflow:From /Users/user/anaconda3/lib/python3.7/site-packages/keras/backend/tensorflow_backend.py:4138: The name tf.random_uniform is deprecated. Please use tf.random.uniform instead.\n",
      "\n",
      "WARNING:tensorflow:From /Users/user/anaconda3/lib/python3.7/site-packages/keras/backend/tensorflow_backend.py:174: The name tf.get_default_session is deprecated. Please use tf.compat.v1.get_default_session instead.\n",
      "\n",
      "WARNING:tensorflow:From /Users/user/anaconda3/lib/python3.7/site-packages/keras/backend/tensorflow_backend.py:181: The name tf.ConfigProto is deprecated. Please use tf.compat.v1.ConfigProto instead.\n",
      "\n"
     ]
    }
   ],
   "source": [
    "from keras.layers import Input, Embedding\n",
    "\n",
    "# the usual word feature\n",
    "word_input = Input(shape=(181,), dtype='int32', name='word_input')\n",
    "\n",
    "# encode input into 100d\n",
    "x_embedding = Embedding(26000, 100, weights=[embedding_matrix],\n",
    "                        input_length=X_train_seq.shape[1],\n",
    "                        trainable=False)(word_input)"
   ]
  },
  {
   "cell_type": "code",
   "execution_count": 30,
   "metadata": {},
   "outputs": [],
   "source": [
    "from keras.layers import LSTM, Dense, concatenate\n",
    "\n",
    "# vector seq -> vector\n",
    "lstm_out = LSTM(32)(x_embedding)\n",
    "\n",
    "# loss for additional feature, use same label (6 types of sentence)\n",
    "other_out = Dense(6, activation='sigmoid', name='other_out')(lstm_out)\n",
    "\n",
    "other_in = Input(shape=(2,), name='other_in')\n",
    "x = concatenate([lstm_out, other_in])\n",
    "\n",
    "# output\n",
    "word_out = Dense(6, activation='softmax', name='word_out')(x)"
   ]
  },
  {
   "cell_type": "markdown",
   "metadata": {},
   "source": [
    "### Model"
   ]
  },
  {
   "cell_type": "code",
   "execution_count": 31,
   "metadata": {},
   "outputs": [],
   "source": [
    "from keras.models import Model\n",
    "\n",
    "model = Model(inputs=[word_input, other_in], outputs=[word_out, other_out])\n",
    "\n",
    "model.compile(optimizer='adam',\n",
    "                  loss='categorical_crossentropy',\n",
    "                  metrics=['accuracy'])"
   ]
  },
  {
   "cell_type": "code",
   "execution_count": 32,
   "metadata": {},
   "outputs": [
    {
     "name": "stdout",
     "output_type": "stream",
     "text": [
      "__________________________________________________________________________________________________\n",
      "Layer (type)                    Output Shape         Param #     Connected to                     \n",
      "==================================================================================================\n",
      "word_input (InputLayer)         (None, 181)          0                                            \n",
      "__________________________________________________________________________________________________\n",
      "embedding_1 (Embedding)         (None, 181, 100)     2600000     word_input[0][0]                 \n",
      "__________________________________________________________________________________________________\n",
      "lstm_7 (LSTM)                   (None, 32)           17024       embedding_1[0][0]                \n",
      "__________________________________________________________________________________________________\n",
      "other_in (InputLayer)           (None, 2)            0                                            \n",
      "__________________________________________________________________________________________________\n",
      "concatenate_5 (Concatenate)     (None, 34)           0           lstm_7[0][0]                     \n",
      "                                                                 other_in[0][0]                   \n",
      "__________________________________________________________________________________________________\n",
      "word_out (Dense)                (None, 6)            210         concatenate_5[0][0]              \n",
      "__________________________________________________________________________________________________\n",
      "other_out (Dense)               (None, 6)            198         lstm_7[0][0]                     \n",
      "==================================================================================================\n",
      "Total params: 2,617,432\n",
      "Trainable params: 17,432\n",
      "Non-trainable params: 2,600,000\n",
      "__________________________________________________________________________________________________\n"
     ]
    }
   ],
   "source": [
    "model.summary()"
   ]
  },
  {
   "cell_type": "markdown",
   "metadata": {},
   "source": [
    "### training"
   ]
  },
  {
   "cell_type": "code",
   "execution_count": 43,
   "metadata": {},
   "outputs": [
    {
     "name": "stdout",
     "output_type": "stream",
     "text": [
      "Train on 43458 samples, validate on 10865 samples\n",
      "Epoch 1/15\n",
      "43458/43458 [==============================] - 121s 3ms/step - loss: 2.2015 - word_out_loss: 1.0583 - other_out_loss: 1.1432 - word_out_acc: 0.5915 - other_out_acc: 0.5612 - val_loss: 2.2718 - val_word_out_loss: 1.0888 - val_other_out_loss: 1.1830 - val_word_out_acc: 0.5742 - val_other_out_acc: 0.5474\n",
      "Epoch 2/15\n",
      "43458/43458 [==============================] - 118s 3ms/step - loss: 2.1712 - word_out_loss: 1.0443 - other_out_loss: 1.1269 - word_out_acc: 0.5975 - other_out_acc: 0.5701 - val_loss: 2.2645 - val_word_out_loss: 1.0842 - val_other_out_loss: 1.1803 - val_word_out_acc: 0.5800 - val_other_out_acc: 0.5515\n",
      "Epoch 3/15\n",
      "43458/43458 [==============================] - 118s 3ms/step - loss: 2.1421 - word_out_loss: 1.0321 - other_out_loss: 1.1100 - word_out_acc: 0.6038 - other_out_acc: 0.5769 - val_loss: 2.3100 - val_word_out_loss: 1.1048 - val_other_out_loss: 1.2052 - val_word_out_acc: 0.5698 - val_other_out_acc: 0.5324\n",
      "Epoch 4/15\n",
      "43458/43458 [==============================] - 116s 3ms/step - loss: 2.1177 - word_out_loss: 1.0210 - other_out_loss: 1.0968 - word_out_acc: 0.6059 - other_out_acc: 0.5790 - val_loss: 2.3019 - val_word_out_loss: 1.1065 - val_other_out_loss: 1.1955 - val_word_out_acc: 0.5739 - val_other_out_acc: 0.5494\n",
      "Epoch 5/15\n",
      "43458/43458 [==============================] - 116s 3ms/step - loss: 2.0971 - word_out_loss: 1.0122 - other_out_loss: 1.0849 - word_out_acc: 0.6099 - other_out_acc: 0.5839 - val_loss: 2.2683 - val_word_out_loss: 1.0901 - val_other_out_loss: 1.1783 - val_word_out_acc: 0.5766 - val_other_out_acc: 0.5490\n",
      "CPU times: user 23min 13s, sys: 7min, total: 30min 14s\n",
      "Wall time: 9min 49s\n"
     ]
    }
   ],
   "source": [
    "%%time\n",
    "\n",
    "from keras.callbacks import EarlyStopping\n",
    "\n",
    "epochs = 15\n",
    "batch_size = 32\n",
    "\n",
    "\n",
    "history = model.fit({'word_input': X_train_seq, 'other_in': X_train_other},\n",
    "                    {'word_out': y_train_series, 'other_out': y_train_series},\n",
    "                    validation_data= ({'word_input': X_test_seq, 'other_in': X_test_other},\n",
    "                                      {'word_out': y_test_series, 'other_out': y_test_series}),\n",
    "                    epochs=epochs, batch_size=batch_size,\n",
    "                    callbacks=[EarlyStopping(monitor='val_word_out_loss', \n",
    "                                             patience=3, min_delta=0.0001)])\n"
   ]
  },
  {
   "cell_type": "markdown",
   "metadata": {},
   "source": [
    "---"
   ]
  },
  {
   "cell_type": "markdown",
   "metadata": {},
   "source": [
    "## Evaluate on Validation Set"
   ]
  },
  {
   "cell_type": "code",
   "execution_count": 2,
   "metadata": {},
   "outputs": [
    {
     "name": "stdout",
     "output_type": "stream",
     "text": [
      "WARNING:tensorflow:From /Users/user/anaconda3/lib/python3.7/site-packages/keras/backend/tensorflow_backend.py:517: The name tf.placeholder is deprecated. Please use tf.compat.v1.placeholder instead.\n",
      "\n",
      "WARNING:tensorflow:From /Users/user/anaconda3/lib/python3.7/site-packages/keras/backend/tensorflow_backend.py:74: The name tf.get_default_graph is deprecated. Please use tf.compat.v1.get_default_graph instead.\n",
      "\n",
      "WARNING:tensorflow:From /Users/user/anaconda3/lib/python3.7/site-packages/keras/backend/tensorflow_backend.py:4138: The name tf.random_uniform is deprecated. Please use tf.random.uniform instead.\n",
      "\n",
      "WARNING:tensorflow:From /Users/user/anaconda3/lib/python3.7/site-packages/keras/backend/tensorflow_backend.py:174: The name tf.get_default_session is deprecated. Please use tf.compat.v1.get_default_session instead.\n",
      "\n",
      "WARNING:tensorflow:From /Users/user/anaconda3/lib/python3.7/site-packages/keras/backend/tensorflow_backend.py:181: The name tf.ConfigProto is deprecated. Please use tf.compat.v1.ConfigProto instead.\n",
      "\n",
      "WARNING:tensorflow:From /Users/user/anaconda3/lib/python3.7/site-packages/keras/optimizers.py:790: The name tf.train.Optimizer is deprecated. Please use tf.compat.v1.train.Optimizer instead.\n",
      "\n",
      "WARNING:tensorflow:From /Users/user/anaconda3/lib/python3.7/site-packages/tensorflow/python/ops/math_grad.py:1250: add_dispatch_support.<locals>.wrapper (from tensorflow.python.ops.array_ops) is deprecated and will be removed in a future version.\n",
      "Instructions for updating:\n",
      "Use tf.where in 2.0, which has the same broadcast rule as np.where\n"
     ]
    }
   ],
   "source": [
    "from keras.models import load_model\n",
    "model = load_model('./model/rnn_glove_additional.h5')"
   ]
  },
  {
   "cell_type": "code",
   "execution_count": 4,
   "metadata": {},
   "outputs": [],
   "source": [
    "import pandas as pd\n",
    "X_train = pd.read_pickle(\"./df/X_train.pkl\")\n",
    "X_test  = pd.read_pickle(\"./df/X_test.pkl\") \n",
    "y_train = pd.read_pickle(\"./df/y_train.pkl\")\n",
    "y_test  = pd.read_pickle(\"./df/y_test.pkl\")"
   ]
  },
  {
   "cell_type": "code",
   "execution_count": 5,
   "metadata": {},
   "outputs": [
    {
     "name": "stdout",
     "output_type": "stream",
     "text": [
      "CPU times: user 1.03 s, sys: 7.95 ms, total: 1.04 s\n",
      "Wall time: 1.04 s\n"
     ]
    }
   ],
   "source": [
    "%%time\n",
    "from keras.preprocessing.text import Tokenizer\n",
    "\n",
    "# keras tokenizer\n",
    "tokenizer = Tokenizer(num_words=20000,\n",
    "                      filters='!\"#$%&()*+,-./:;<=>?@[\\]^_`{|}~',\n",
    "                      lower=True)\n",
    "\n",
    "tokenizer.fit_on_texts(X_train['sentence'].values)\n",
    "\n",
    "# unique word/token as a dictionary {'word': index}\n",
    "word_index = tokenizer.word_index"
   ]
  },
  {
   "cell_type": "code",
   "execution_count": 6,
   "metadata": {},
   "outputs": [
    {
     "name": "stdout",
     "output_type": "stream",
     "text": [
      "CPU times: user 1 s, sys: 16.5 ms, total: 1.02 s\n",
      "Wall time: 1.02 s\n"
     ]
    },
    {
     "data": {
      "text/plain": [
       "(43458, 181)"
      ]
     },
     "execution_count": 6,
     "metadata": {},
     "output_type": "execute_result"
    }
   ],
   "source": [
    "%%time\n",
    "\n",
    "from keras.preprocessing.sequence import pad_sequences\n",
    "\n",
    "# convert sentence to numeric sequence\n",
    "X_train_seq = tokenizer.texts_to_sequences(X_train['sentence'].values)\n",
    "\n",
    "# make every sequence equal size with padding\n",
    "X_train_seq = pad_sequences(X_train_seq, maxlen=181) # max_len in sentence in training records\n",
    "\n",
    "X_train_seq.shape # a vector of 181 elements (a vector for each sentence)"
   ]
  },
  {
   "cell_type": "code",
   "execution_count": 7,
   "metadata": {},
   "outputs": [
    {
     "data": {
      "text/plain": [
       "(43458, 6)"
      ]
     },
     "execution_count": 7,
     "metadata": {},
     "output_type": "execute_result"
    }
   ],
   "source": [
    "y_train_series = pd.get_dummies(y_train).values\n",
    "y_train_series.shape"
   ]
  },
  {
   "cell_type": "code",
   "execution_count": 8,
   "metadata": {},
   "outputs": [
    {
     "name": "stdout",
     "output_type": "stream",
     "text": [
      "(10865, 181)\n"
     ]
    },
    {
     "data": {
      "text/plain": [
       "(10865, 6)"
      ]
     },
     "execution_count": 8,
     "metadata": {},
     "output_type": "execute_result"
    }
   ],
   "source": [
    "## prepare for evaluation data as well\n",
    "\n",
    "X_test_seq = tokenizer.texts_to_sequences(X_test['sentence'].values)\n",
    "X_test_seq = pad_sequences(X_test_seq, maxlen=181) \n",
    "\n",
    "y_test_series = pd.get_dummies(y_test).values\n",
    "\n",
    "print(X_test_seq.shape) # 10865 sentence with 181 terms sequence (pad if less than 181)\n",
    "y_test_series.shape "
   ]
  },
  {
   "cell_type": "code",
   "execution_count": 10,
   "metadata": {},
   "outputs": [],
   "source": [
    "X_train_other = X_train[['position', 'sent_len']].values\n",
    "X_test_other =   X_test[['position', 'sent_len']].values"
   ]
  },
  {
   "cell_type": "markdown",
   "metadata": {},
   "source": [
    "---"
   ]
  },
  {
   "cell_type": "code",
   "execution_count": 11,
   "metadata": {},
   "outputs": [
    {
     "name": "stdout",
     "output_type": "stream",
     "text": [
      "10865/10865 [==============================] - 5s 477us/step\n"
     ]
    },
    {
     "data": {
      "text/plain": [
       "[2.2683217969842624,\n",
       " 1.0900713763476186,\n",
       " 1.178250419407795,\n",
       " 0.5766221813545543,\n",
       " 0.5490105844893546]"
      ]
     },
     "execution_count": 11,
     "metadata": {},
     "output_type": "execute_result"
    }
   ],
   "source": [
    "# val_loss, val_word_out_loss, val_other_out_loss, val_word_out_acc, val_other_out_acc\n",
    "# val_word_out_acc will be the main accuracy as the word is the main features\n",
    "\n",
    "model.evaluate({'word_input': X_test_seq, 'other_in': X_test_other},\n",
    "               {'word_out': y_test_series, 'other_out': y_test_series})"
   ]
  },
  {
   "cell_type": "code",
   "execution_count": 12,
   "metadata": {},
   "outputs": [
    {
     "name": "stdout",
     "output_type": "stream",
     "text": [
      "CPU times: user 13.3 s, sys: 4.01 s, total: 17.3 s\n",
      "Wall time: 4.84 s\n"
     ]
    }
   ],
   "source": [
    "%%time\n",
    "pred_result = model.predict({'word_input': X_test_seq, 'other_in': X_test_other})"
   ]
  },
  {
   "cell_type": "code",
   "execution_count": 15,
   "metadata": {},
   "outputs": [],
   "source": [
    "import pickle\n",
    "\n",
    "with open('./label_lookup.pkl', 'rb') as f:\n",
    "    label_lookup = pickle.load(f)"
   ]
  },
  {
   "cell_type": "code",
   "execution_count": 16,
   "metadata": {},
   "outputs": [
    {
     "data": {
      "text/plain": [
       "{3: 'OBJECTIVES',\n",
       " 2: 'METHODS',\n",
       " 1: 'CONCLUSIONS',\n",
       " 0: 'BACKGROUND',\n",
       " 5: 'RESULTS',\n",
       " 4: 'OTHERS'}"
      ]
     },
     "execution_count": 16,
     "metadata": {},
     "output_type": "execute_result"
    }
   ],
   "source": [
    "label_lookup"
   ]
  },
  {
   "cell_type": "code",
   "execution_count": 17,
   "metadata": {},
   "outputs": [
    {
     "data": {
      "text/plain": [
       "(10865, 6)"
      ]
     },
     "execution_count": 17,
     "metadata": {},
     "output_type": "execute_result"
    }
   ],
   "source": [
    "pred_result[0].shape"
   ]
  },
  {
   "cell_type": "code",
   "execution_count": 19,
   "metadata": {},
   "outputs": [
    {
     "name": "stdout",
     "output_type": "stream",
     "text": [
      "0.5766221813161528\n",
      "              precision    recall  f1-score   support\n",
      "\n",
      "  BACKGROUND       0.74      0.77      0.75      2718\n",
      " CONCLUSIONS       0.45      0.08      0.14      1044\n",
      "     METHODS       0.57      0.57      0.57      2759\n",
      "  OBJECTIVES       0.46      0.52      0.49      1799\n",
      "      OTHERS       0.56      0.15      0.23       192\n",
      "     RESULTS       0.52      0.66      0.58      2353\n",
      "\n",
      "    accuracy                           0.58     10865\n",
      "   macro avg       0.55      0.46      0.46     10865\n",
      "weighted avg       0.57      0.58      0.56     10865\n",
      "\n"
     ]
    }
   ],
   "source": [
    "import numpy as np\n",
    "\n",
    "def get_labels(seq):\n",
    "    return [label_lookup[np.argmax(s)] for s in seq]\n",
    "\n",
    "from sklearn.metrics import accuracy_score\n",
    "from sklearn.metrics import classification_report\n",
    "\n",
    "y_pred = get_labels(pred_result[0])\n",
    "\n",
    "print(accuracy_score(y_test, y_pred))\n",
    "print(classification_report(y_true=y_test, y_pred=y_pred))"
   ]
  },
  {
   "cell_type": "markdown",
   "metadata": {},
   "source": [
    "Accuracy score seems higher."
   ]
  },
  {
   "cell_type": "code",
   "execution_count": 62,
   "metadata": {},
   "outputs": [],
   "source": [
    "import pickle\n",
    "\n",
    "# save model & history\n",
    "model.save('./model/rnn_glove_additional.h5')   \n",
    "pickle.dump(history, open(\"./model/rnn_glove_additional_history.pkl\", \"wb\"))"
   ]
  },
  {
   "cell_type": "markdown",
   "metadata": {},
   "source": [
    "----"
   ]
  },
  {
   "cell_type": "markdown",
   "metadata": {},
   "source": [
    "## Testing Data"
   ]
  },
  {
   "cell_type": "code",
   "execution_count": 22,
   "metadata": {},
   "outputs": [
    {
     "data": {
      "text/plain": [
       "3419      BACKGROUND\n",
       "18762     OBJECTIVES\n",
       "16492     OBJECTIVES\n",
       "21122     OBJECTIVES\n",
       "32679        METHODS\n",
       "6108      BACKGROUND\n",
       "33006        METHODS\n",
       "7133      BACKGROUND\n",
       "49382    CONCLUSIONS\n",
       "50119    CONCLUSIONS\n",
       "8426      BACKGROUND\n",
       "42421        RESULTS\n",
       "26887        METHODS\n",
       "45542        RESULTS\n",
       "7180      BACKGROUND\n",
       "48808    CONCLUSIONS\n",
       "22197     OBJECTIVES\n",
       "33112        METHODS\n",
       "44360        RESULTS\n",
       "27730        METHODS\n",
       "25264        METHODS\n",
       "9069      BACKGROUND\n",
       "23647        METHODS\n",
       "7100      BACKGROUND\n",
       "2593      BACKGROUND\n",
       "5653      BACKGROUND\n",
       "25715        METHODS\n",
       "21812     OBJECTIVES\n",
       "50332    CONCLUSIONS\n",
       "26438        METHODS\n",
       "            ...     \n",
       "40548        RESULTS\n",
       "5139      BACKGROUND\n",
       "50726    CONCLUSIONS\n",
       "53726         OTHERS\n",
       "5342      BACKGROUND\n",
       "14443     OBJECTIVES\n",
       "11327     BACKGROUND\n",
       "7155      BACKGROUND\n",
       "22896        METHODS\n",
       "35213        METHODS\n",
       "34530        METHODS\n",
       "16989     OBJECTIVES\n",
       "44795        RESULTS\n",
       "40215        RESULTS\n",
       "46761        RESULTS\n",
       "14478     OBJECTIVES\n",
       "1490      BACKGROUND\n",
       "14971     OBJECTIVES\n",
       "51055    CONCLUSIONS\n",
       "11667     BACKGROUND\n",
       "25217        METHODS\n",
       "48462    CONCLUSIONS\n",
       "40884        RESULTS\n",
       "6698      BACKGROUND\n",
       "6432      BACKGROUND\n",
       "50631    CONCLUSIONS\n",
       "23056        METHODS\n",
       "31178        METHODS\n",
       "12481     BACKGROUND\n",
       "33199        METHODS\n",
       "Name: label, Length: 10865, dtype: object"
      ]
     },
     "execution_count": 22,
     "metadata": {},
     "output_type": "execute_result"
    }
   ],
   "source": [
    "y_test"
   ]
  },
  {
   "cell_type": "code",
   "execution_count": null,
   "metadata": {},
   "outputs": [],
   "source": []
  }
 ],
 "metadata": {
  "kernelspec": {
   "display_name": "Python 3",
   "language": "python",
   "name": "python3"
  },
  "language_info": {
   "codemirror_mode": {
    "name": "ipython",
    "version": 3
   },
   "file_extension": ".py",
   "mimetype": "text/x-python",
   "name": "python",
   "nbconvert_exporter": "python",
   "pygments_lexer": "ipython3",
   "version": "3.7.3"
  },
  "toc": {
   "base_numbering": 1,
   "nav_menu": {},
   "number_sections": true,
   "sideBar": true,
   "skip_h1_title": true,
   "title_cell": "Table of Contents",
   "title_sidebar": "Contents",
   "toc_cell": false,
   "toc_position": {},
   "toc_section_display": true,
   "toc_window_display": true
  }
 },
 "nbformat": 4,
 "nbformat_minor": 2
}
